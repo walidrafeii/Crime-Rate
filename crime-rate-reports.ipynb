{
 "cells": [
  {
   "cell_type": "markdown",
   "metadata": {},
   "source": [
    "# Overview"
   ]
  },
  {
   "cell_type": "markdown",
   "metadata": {},
   "source": [
    "The problem: crime news might be misreported or misportrayed in the media in the sense that the major eye-catching crimes are being overreported compared to the true, higher occuring crimes that are seldom mentioned. To make sure that my hypthesis is correct I decided to find already given datasets that report the crimes in areas of California and Texas. These two datasets contain the distribution of the types of crimes that occurred in the respective area of the state. Then I scrape data off popular local news websites in those corresponding areas for the years 2015-2018. Finally, after cleaning the data I compare the actual crime distribution data sets for a given area with its scraped local news data set and see if my hypothesis about the underreporting of higher occurring crimes is true. Then I also compare the results between California and Texas to see if there is a difference in the state's new sources in the type of crimes they report. This followup question stems from the nature of the politics in Texas vs. California, so I suspected that more violent gun crimes might be underreported in a more conservative part of the country like Texas. "
   ]
  },
  {
   "cell_type": "markdown",
   "metadata": {},
   "source": [
    "# Research Question"
   ]
  },
  {
   "cell_type": "markdown",
   "metadata": {},
   "source": [
    "Is the percentage of crimes reported by the regional media related to the percentage of crimes occurring in the same area over 2015-2018 in specific regions in California and Texas? Also, does the political climate of a given region have anything to do with the local media’s reporting on the types of crimes? "
   ]
  },
  {
   "cell_type": "markdown",
   "metadata": {},
   "source": [
    "## Background and Prior Work"
   ]
  },
  {
   "cell_type": "markdown",
   "metadata": {},
   "source": [
    "Crimes are always happening around the country, and a big part of the media’s job is to report these offenses. But does the media accurately report what crimes are happening most in the country? We know that the media is looking for clicks and money, but how far do they skew away from the actual proportions of crimes committed? The media might draws an incorrect picture of the crime in a city and citizens start to fear crimes that rarely happens. \n",
    "\n",
    "The datasets that I'm looking at contain the number and types of crimes committed in California and Texas in the years 2015-2018, and I’ll be able to get the true proportions of crimes committed in these states from the datasets. I’ll also be scraping news websites to find the numbers of articles written about different types of crimes over the years 2015-2018 in areas of California and Texas. This’ll allow me to compare the two sets of proportions in both states and see how similar(or different) they really are. \n",
    "\n",
    "Relevant prior work is an article written by a professor at the University of Tusla. She is writing about comparing reporting of crime and the reality. She also looks at how this affects the public perception of criminal activity. The conclusion of the article is interesting. It is concluding that coverage of crime does not reflect the actual crime rate. It also says that the biases of gender, age, race, socioeconomic status, and relationship status are documented in several publications. \n",
    "\n",
    "Another relevant prior work that inspired me to do this project is an article from ourworldindata.org written by Hannah Ritchie. The question that was trying to be answered is does the news reflect what we die from? They compared data from the actual causes of death, google searches, New York Times, and the guardian. The comparisons were shocking. for example the actual causes of death show that terrorism was less than 0.01%, google searches showed it was 7.2%, and both NYT and the guardian showed that 35% of people die from terrorism. both NYT and the guardian had similar percentage of reports that show causes of death where the biggest four topics are Homicide(23%), Suicide(12%), Terrorism(35%), and cancer(13%). Looking at the actual causes of death the reports in the news are completely different from reality. Finally we see that kidney diseases, Heart, and drug related deaths are underreported in the media.\n",
    "\n",
    "\n",
    "References (include links):\n",
    "- 1) Tiegreen, Sara and Newman, Elana (2009, Feb 18). Violence: Comparing Reporting and Reality. Retrieved Dec 11, 2019, from  https://dartcenter.org/content/violence-comparing-reporting-and-reality\n",
    "- 2)Hannah Ritchie,(2019, May 29). Does the news reflect what we die from?, from https://ourworldindata.org/does-the-news-reflect-what-we-die-from"
   ]
  },
  {
   "cell_type": "markdown",
   "metadata": {},
   "source": [
    "# Hypothesis\n"
   ]
  },
  {
   "cell_type": "markdown",
   "metadata": {},
   "source": [
    "I think that the media probably underreports most crime that happens because it’s not going to draw as much attention and money for the news outlets. The media probably over reports acts of terror as they will create the most buzz for them. The predominant political affiliations of a state would push the local media to report crimes that would attract more attention from the politically-leaning audience, such as gun violence in liberal states and drug crimes in conservative states. \n"
   ]
  },
  {
   "cell_type": "markdown",
   "metadata": {},
   "source": [
    "# Dataset(s)"
   ]
  },
  {
   "cell_type": "markdown",
   "metadata": {},
   "source": [
    "## California Crime Data - arrests\n",
    "- Dataset Name: \"State of California Department of Justice - LA.csv\" and \"State of California Department of Justice - SF.csv\"\n",
    "- Link to the dataset: https://openjustice.doj.ca.gov/exploration/crime-statistics/arrests\n",
    "- Number of observations: 3.3M\n",
    "\n",
    "\n",
    "**Features**\n",
    "- FELONY - Total number of felonies in a given year\n",
    "- VIOLENT OFFENSES - Total number of vilent offenses for a given year\n",
    "- PROPERTY OFFENSES - Total number of property offenses for a given year\n",
    "- DRUG OFFENSES - Total number of drug offenses for a given year\n",
    "- SEX OFFENSES - Total number of sex offenses for a given year\n",
    "- OTHER OFFENSES - Total number of other offenses for a given year\n",
    "- MISDEMEANOR - Total number of misdemeanors for a given year\n",
    "- STATUS OFFENSES - Total number of status offenses for a given year\n",
    "\n",
    "\n",
    "Arrests reported in Los Angeles and San Francisco between 2009 and 2018. The original dataset with each crime report in this periode consist of approximatly 3.3 million rows. I am using the aggregated statistics for this project. The dataset has a few limitations, not all police departments have reported since 2009. Some have joined at a later point. For a list of limitations and when the different police departments started to report, see https://data-openjustice.doj.ca.gov/sites/default/files/stats/2019-06/MACR%20Data%20Limitations_0.pdf  \n",
    "\n",
    "\n",
    "## Austin Crime Data\n",
    "- Dataset name: austin_crime_reports.csv   \n",
    "- Link to dataset: https://data.austintexas.gov/Public-Safety/Crime-Reports/fdj4-gpfu/   \n",
    "- Number of observations: 2.19M\n",
    "\n",
    "\n",
    "**Features**\n",
    "- INCIDENT NUMBER: Incident report number\n",
    "- HIGHEST OFFENSE DESCRIPTION: Description\n",
    "- HIGHEST OFFENSE CODE: Code \n",
    "- FAMILY VIOLENCE: Incident involves family violence? Y=yes, N=no\n",
    "- OCCURRED DATE TIME: Data and time (combined) \n",
    "- OCCURRED DATE: Date the incident occurred\n",
    "- OCCURRED TIME: Time the incident occurred\n",
    "- REPORT DATE TIME: Date and time (combined) incident was reported\n",
    "- REPORT DATE: Date the incident was reported\n",
    "- REPORT TIME: Time the incident was reported\n",
    "- LOCATION TYPE: General description of the premise where the incident occurred\n",
    "- ADDRESS: Incident location\n",
    "- ZIP CODE: Zipcode where the incident occurred\n",
    "- COUNCIL DISTRICT: Austin city council district where the incident occurred\n",
    "- APD SECTOR: APD (Austin Police Department) sector where the incident occurred. \n",
    "- APD DISTRICT: APD district where the incident occurred\n",
    "- PRA: APD police reporting area where incident occurred\n",
    "- CENSUS TRACT: Census tract where the incident occurred\n",
    "- CLEARANCE STATUS: How/whether the crime was solved\n",
    "- CLEARANCE DATE: Date crime was solved\n",
    "- UCR CATEGORY: Code for the most serious crimes identified by the FBI as part of its Unifrom Crime Reporting program\n",
    "- CATEGORY DESCRIPTION: Description for the most serious crimes identified by the FBI as part of its Uniform Crime Reporting program\n",
    "- X-COORDINATE: X-coordinate where the incident occurred\n",
    "- Y-COORDINATE: Y-coordinate where the incident occurred\n",
    "- LATITUDE: Latitude where the incident occurred\n",
    "- LONGITUDE: Longitude where the incident occurred\n",
    "- LOCATION: 3rd party generated spatial column \n",
    "\n",
    "This dataset contains records of incidents that the Austin Police Department responded to and wrote a report. The dataset is updated weekly and is dated back to 2003 to present. One incident may have several offenses associated with it, but the dataset only label the highest level offense of that incident.  \n",
    "\n",
    "## Data scraping\n",
    "\n",
    "- Dataset names:\n",
    "    - dailynews_crime_news.csv\n",
    "    - sfexaminer_crime_news.csv\n",
    "    - kxan_crime_news.csv\n",
    "    - texasmonthly_crime_news.csv\n",
    "- Link to website:\n",
    "    - https://www.dailynews.com/news/crime\n",
    "    - https://www.sfexaminer.com/tag/crime/\n",
    "    - https://www.kxan.com/news/crime/\n",
    "    - https://www.texasmonthly.com/category/crime/\n",
    "- Number of observations in total: 15994 + 5280 + 7040 + 737\n",
    " \n",
    "**Features**  \n",
    "- AUTHOR: The author of the article\n",
    "- TIME: The time the article was written\n",
    "- TITLE: Title of the article\n",
    "- ARTICLE_URL: Link to the article\n",
    "- ARTICLE_ID: A unique ID that refers to the name of \n",
    "\n",
    "All newspapers are scraped by the same script, generating tables containing the same features as spesified below. The csv files contains an articleID columns, which is the id used to name the .txt files which contains all the article content. Each article has two files, one file with the untouched html, and one file which have all the html code cleaned out.\n",
    "\n",
    "Using BeautifulSoup 4 as a library for pulling data from HTML pages. If the news source is loading its news using json.\n",
    "\n",
    "BeautifulSoup makes it easy to scrape data from an HTML page, making it possible to select elements based on CSS selector. "
   ]
  },
  {
   "cell_type": "code",
   "execution_count": 1,
   "metadata": {},
   "outputs": [],
   "source": [
    "from bs4 import BeautifulSoup\n",
    "from requests import get\n",
    "import requests\n",
    "import re\n",
    "from requests.exceptions import RequestException\n",
    "from contextlib import closing\n",
    "from bs4 import BeautifulSoup\n",
    "import pandas as pd\n",
    "from time import sleep\n",
    "import hashlib\n",
    "import os\n",
    "import json"
   ]
  },
  {
   "cell_type": "markdown",
   "metadata": {},
   "source": [
    "Utils functions to extract http content from the web. Some of the new sources blocks webconnections if it finds the browser to be suspiciously. To get around this issue, I include headers that mimic a chrome browser."
   ]
  },
  {
   "cell_type": "code",
   "execution_count": 2,
   "metadata": {},
   "outputs": [],
   "source": [
    "def get_page(url, headers=None):\n",
    "    \"\"\"\n",
    "    Attempts to get the content at a url by making an HTTP GET request.\n",
    "    If the response code is ok, then return the content,otherwise return None.\n",
    "    \"\"\"\n",
    "    try:\n",
    "        with closing(get(url, stream=True, headers=headers)) as resp:\n",
    "            if is_good_response(resp):\n",
    "                return resp.content\n",
    "            else:\n",
    "                return None\n",
    "\n",
    "    except RequestException as e:\n",
    "        print('Error during requests to {0} : {1}'.format(url, str(e)))\n",
    "        return None\n",
    "\n",
    "\n",
    "def is_good_response(resp):\n",
    "    \"\"\"\n",
    "    Returns True if the response code is OK, False otherwise.\n",
    "    \"\"\"\n",
    "    content_type = resp.headers['Content-Type'].lower()\n",
    "    return (resp.status_code == 200 \n",
    "            and content_type is not None)"
   ]
  },
  {
   "cell_type": "markdown",
   "metadata": {},
   "source": [
    "I create on object to extract data from a news source. To make it easy to adapt to multiple news sources, the object will extract information from a page based on selectors. The page could either be a json document or an HTML document. All of the selectors for a page is defined in the page structure object, that is an required input when initlizing the news scraper object.\n",
    "\n",
    "The news scraper will start to run over a page that list news articles. It will then collect the meta data for every article on the page. For each of the articles, it will also scrape the actual article, saving both the raw article and also a cleaned version, where ads and unrelvant content on the page is removed. The HTML tags is also removed on the cleaned version."
   ]
  },
  {
   "cell_type": "code",
   "execution_count": 3,
   "metadata": {},
   "outputs": [],
   "source": [
    "class NewsScraper:\n",
    "    def __init__(self, page_structure):\n",
    "        self.page_structure = page_structure\n",
    "        \n",
    "    def collect_article(self, url, headers, article_id):\n",
    "        page = get_page(url, headers=headers)    \n",
    "        html = BeautifulSoup(page, 'html.parser')\n",
    "        html_tag = self.page_structure.get('articleContent', 'article')\n",
    "        content = html.select_one(html_tag)\n",
    "        os.makedirs(\"./articles/\", exist_ok=True)\n",
    "        with open(\"./articles/\" + article_id + \".txt\", \"w\") as text_file:\n",
    "            text_file.write(content.decode_contents())\n",
    "        \n",
    "        for script in content('script'):\n",
    "            script.decompose()\n",
    "        with open(\"./articles/\" + article_id + \"_clean.txt\", \"w\") as text_file:\n",
    "            text_file.write(content.text)\n",
    "        \n",
    "    def collect_content(self, page_number):\n",
    "        headers = self.page_structure.get('headers', None)\n",
    "        page = get_page(self.page_structure['url'].format(str(page_number)), headers=headers)\n",
    "        if self.page_structure['type'] != 'json':\n",
    "            html = BeautifulSoup(page, 'html.parser')\n",
    "            self.content = html.select_one(self.page_structure['content'])\n",
    "        else:\n",
    "            self.content = json.loads(page)\n",
    "    \n",
    "    def select(self, selector, multiple=False):\n",
    "        if self.page_structure['type'] is not 'json':\n",
    "            if multiple:\n",
    "                return self.content.select(selector)\n",
    "            return self.content.select_one(selector)\n",
    "        \n",
    "        item = self.content\n",
    "        for tag in selector.split(' '):\n",
    "            item = item[tag]\n",
    "        return item\n",
    "    \n",
    "    def remove_whitespaces(self, text):\n",
    "        return re.sub(r'[\\ \\n]{2,}', '', text).replace(\"\t\", \"\")\n",
    "\n",
    "    def extract_json_text(self, content, selector):\n",
    "        item = content\n",
    "        for tag in selector.split(' '):\n",
    "            if tag in item:\n",
    "                item = item[tag]\n",
    "            else:\n",
    "                return None\n",
    "        return item\n",
    "\n",
    "    def extract_text(self, content, selector):\n",
    "        if self.page_structure['type'] == 'json':\n",
    "            return self.extract_json_text(content, selector)\n",
    "        return self.remove_whitespaces(content.select_one(selector).text)\n",
    "\n",
    "\n",
    "    def extract_url(self, content, selector):\n",
    "        if self.page_structure['type'] == 'json':\n",
    "            return self.extract_json_text(content, selector)\n",
    "        return self.remove_whitespaces(content.select_one(selector).get('href'))\n",
    "\n",
    "    \n",
    "    def collect_data(self, page_number, delay=1):\n",
    "        # Create scraper object\n",
    "        headers = self.page_structure.get('headers', None)\n",
    "        self.collect_content(page_number)\n",
    "        data = pd.DataFrame(columns=list(self.page_structure['articleMeta'].keys()))\n",
    "        \n",
    "        # for every article\n",
    "        for article_tag in self.select(self.page_structure['articleTag'], multiple=True):\n",
    "            features = {}\n",
    "            try: \n",
    "                for meta, selector in self.page_structure['articleMeta'].items():\n",
    "                    if \"URL\" in meta:\n",
    "                        features[meta] = str(self.extract_url(article_tag, selector))\n",
    "                        \n",
    "                        article_id = hashlib.md5(features[meta].encode('utf-8')).hexdigest()\n",
    "                        features['articleID'] =  article_id\n",
    "                        sleep(delay)\n",
    "                        self.collect_article(features[meta], headers, article_id)\n",
    "                    else:\n",
    "                        features[meta] = str(self.extract_text(article_tag, selector))\n",
    "            except AttributeError as e:\n",
    "                # Attributes not found in an article, eg ad spot\n",
    "                print(e)\n",
    "            data = data.append(features, ignore_index=True)\n",
    "        return data"
   ]
  },
  {
   "cell_type": "markdown",
   "metadata": {},
   "source": [
    "Create a runner, that runs a single news scraper. Along the way, the runner saves all of the information to a csv file. The csv file contain referenced to the articles that is saved in a seperate folder.\n",
    "\n",
    "As input, we need to know how many pages to scrape, the delay between every page in seconds and the page to start off from. The delay is implemented to not spam the news source and create unnecessary load to their servers."
   ]
  },
  {
   "cell_type": "code",
   "execution_count": 4,
   "metadata": {},
   "outputs": [],
   "source": [
    "def collect(scraper, pages=10, from_page=1, delay=1):\n",
    "    data = scraper.collect_data(from_page, delay=delay)\n",
    "    for page in range(from_page + 1, from_page + pages):        \n",
    "        print(\"Currently scraping page: \" + str(page-from_page) + \" of \" + str(pages), end=\"\\r\")\n",
    "        if data is None:\n",
    "            data = scraper.collect_data(page)\n",
    "        else:\n",
    "            data = pd.concat([data, scraper.collect_data(page)])\n",
    "        sleep(delay)\n",
    "        \n",
    "        data.to_csv(\"crime_news.csv\")\n",
    "    return data"
   ]
  },
  {
   "cell_type": "markdown",
   "metadata": {},
   "source": [
    "For the page structures, the configuration is defined below. The HTML documents using CSS selectors to select elements on a page. JSON documents using nested property tag to select a property on a docuement."
   ]
  },
  {
   "cell_type": "code",
   "execution_count": 5,
   "metadata": {},
   "outputs": [],
   "source": [
    "dailynews = {\n",
    "    \"url\": 'https://www.dailynews.com/news/crime/page/{}', \n",
    "    \"type\": 'html',\n",
    "    \"content\": '.content-wrapper',\n",
    "    \"articleTag\": '.article-info',\n",
    "    \"articleMeta\": {\n",
    "        \"Author\": '.byline a',\n",
    "        \"Title\": '.article-title',\n",
    "        \"Time\": '.entry-meta time',\n",
    "        \"ArticleURL\": '.article-title',\n",
    "    }\n",
    "}\n",
    "\n",
    "sfexaminer = {\n",
    "    \"url\": 'https://www.sfexaminer.com/tag/crime/page/{}', \n",
    "    \"type\": 'html',\n",
    "    \"headers\": {\n",
    "        'User-Agent': 'Mozilla/5.0 (Macintosh; Intel Mac OS X 10_15) AppleWebKit/605.1.15 (KHTML, like Gecko) Version/13.0.2 Safari/605.1.15',\n",
    "    },\n",
    "    \"content\": '.main-content',\n",
    "    \"articleTag\": '.row',\n",
    "    \"articleMeta\": {\n",
    "        \"Author\": '.author-meta li:nth-child(2) .byline',\n",
    "        \"Title\": '.content a',\n",
    "        \"Time\": '.author-meta li:first-child span',\n",
    "        \"ArticleURL\": '.content a',\n",
    "    },\n",
    "    \"articleContent\": '.main-content'\n",
    "}\n",
    "\n",
    "kxan = {\n",
    "    \"url\": 'https://www.kxan.com/wp-json/nexstar/v1/article-bin?provider=category&exclude%5B0%5D=273630&exclude%5B1%5D=273571&exclude%5B2%5D=273454&exclude%5B3%5D=273445&exclude%5B4%5D=273237&page={}&per_page=10&context=view&category=62&post_type%5B0%5D=any&_embed=1', \n",
    "    \"headers\": {\n",
    "        'User-Agent': 'Mozilla/5.0 (Macintosh; Intel Mac OS X 10_15) AppleWebKit/605.1.15 (KHTML, like Gecko) Version/13.0.2 Safari/605.1.15',\n",
    "    },\n",
    "    \"type\": 'json',\n",
    "    \"content\": '.article',\n",
    "    \"articleTag\": '_embedded articles',\n",
    "    \"articleMeta\": {\n",
    "        \"Author\": 'author',\n",
    "        \"Title\": 'title rendered',\n",
    "        \"Time\": 'date',\n",
    "        \"ArticleURL\": 'link',\n",
    "    },\n",
    "    \"articleContent\": '.article'\n",
    "}\n",
    "\n",
    "texasmonthly = {\n",
    "    \"url\": \"https://www.texasmonthly.com/category/crime/page/{}\",\n",
    "    \"headers\": {\n",
    "        'User-Agent': 'Mozilla/5.0 (Macintosh; Intel Mac OS X 10_15) AppleWebKit/605.1.15 (KHTML, like Gecko) Version/13.0.2 Safari/605.1.15'\n",
    "    },\n",
    "    \"type\": 'html',\n",
    "    \"content\":\"main\",\n",
    "    \"articleTag\":\".tease-horizontal\",\n",
    "    \"articleMeta\": {\n",
    "        \"Author\": '.tease-horizontal__meta a',\n",
    "        \"Title\": '.tease-horizontal__title',\n",
    "        \"Time\": '.tease-horizontal__meta',\n",
    "        \"ArticleURL\": '.tease-horizontal__title'\n",
    "    }\n",
    "}"
   ]
  },
  {
   "cell_type": "markdown",
   "metadata": {},
   "source": [
    "Here is an example to scrape data from of the sources. In the example, the configuration for Kxan news. The code will collect all of the crime news from the 5 most recent pages"
   ]
  },
  {
   "cell_type": "code",
   "execution_count": 9,
   "metadata": {},
   "outputs": [
    {
     "name": "stdout",
     "output_type": "stream",
     "text": [
      "Currently scraping page: 4 of 5\r"
     ]
    },
    {
     "data": {
      "text/html": [
       "<div>\n",
       "<style scoped>\n",
       "    .dataframe tbody tr th:only-of-type {\n",
       "        vertical-align: middle;\n",
       "    }\n",
       "\n",
       "    .dataframe tbody tr th {\n",
       "        vertical-align: top;\n",
       "    }\n",
       "\n",
       "    .dataframe thead th {\n",
       "        text-align: right;\n",
       "    }\n",
       "</style>\n",
       "<table border=\"1\" class=\"dataframe\">\n",
       "  <thead>\n",
       "    <tr style=\"text-align: right;\">\n",
       "      <th></th>\n",
       "      <th>Author</th>\n",
       "      <th>Title</th>\n",
       "      <th>Time</th>\n",
       "      <th>ArticleURL</th>\n",
       "      <th>articleID</th>\n",
       "    </tr>\n",
       "  </thead>\n",
       "  <tbody>\n",
       "    <tr>\n",
       "      <td>0</td>\n",
       "      <td>4670</td>\n",
       "      <td>Josh Duggar, &amp;#8217;19 Kids&amp;#8217; star, charg...</td>\n",
       "      <td>2021-04-30T14:05:08</td>\n",
       "      <td>https://www.kxan.com/news/national-news/josh-d...</td>\n",
       "      <td>2f6ce1a4821c44098cf75d1b1267cab9</td>\n",
       "    </tr>\n",
       "    <tr>\n",
       "      <td>1</td>\n",
       "      <td>3885</td>\n",
       "      <td>Man stabbed multiple times in north Austin, su...</td>\n",
       "      <td>2021-04-30T06:19:15</td>\n",
       "      <td>https://www.kxan.com/news/crime/man-stabbed-mu...</td>\n",
       "      <td>96f628bd3e1517791adb1ce1f3c0bf7b</td>\n",
       "    </tr>\n",
       "    <tr>\n",
       "      <td>2</td>\n",
       "      <td>4670</td>\n",
       "      <td>19-year-old dead after shooting at southeast A...</td>\n",
       "      <td>2021-04-29T20:38:20</td>\n",
       "      <td>https://www.kxan.com/news/crime/police-investi...</td>\n",
       "      <td>61cbbbd705c095a288458e20690a31fe</td>\n",
       "    </tr>\n",
       "    <tr>\n",
       "      <td>3</td>\n",
       "      <td>4670</td>\n",
       "      <td>Josh Duggar arrested; placed on a federal hold</td>\n",
       "      <td>2021-04-29T20:05:23</td>\n",
       "      <td>https://www.kxan.com/news/national-news/josh-d...</td>\n",
       "      <td>7cfa52f79406ec845689bcdea2662f4a</td>\n",
       "    </tr>\n",
       "    <tr>\n",
       "      <td>4</td>\n",
       "      <td>4670</td>\n",
       "      <td>&amp;#8216;No crime occurred&amp;#8217;: DPS, DA concl...</td>\n",
       "      <td>2021-04-29T17:19:30</td>\n",
       "      <td>https://www.kxan.com/news/texas/no-crime-occur...</td>\n",
       "      <td>92572e38548c75168d65369b11d9f73b</td>\n",
       "    </tr>\n",
       "    <tr>\n",
       "      <td>5</td>\n",
       "      <td>4670</td>\n",
       "      <td>Police: Ex-UT student broke into dorm rooms, c...</td>\n",
       "      <td>2021-04-29T15:53:32</td>\n",
       "      <td>https://www.kxan.com/news/crime/police-ex-ut-s...</td>\n",
       "      <td>4614fa185d51a58c33bb3e36fe151474</td>\n",
       "    </tr>\n",
       "    <tr>\n",
       "      <td>6</td>\n",
       "      <td>4670</td>\n",
       "      <td>Suspect caught trying to break into car, point...</td>\n",
       "      <td>2021-04-29T15:13:30</td>\n",
       "      <td>https://www.kxan.com/news/local/austin/suspect...</td>\n",
       "      <td>cbd33cabf433396734a2a54b19855f70</td>\n",
       "    </tr>\n",
       "    <tr>\n",
       "      <td>7</td>\n",
       "      <td>3885</td>\n",
       "      <td>Man arrested, accused of pointing gun and pret...</td>\n",
       "      <td>2021-04-29T13:58:26</td>\n",
       "      <td>https://www.kxan.com/news/crime/man-arrested-a...</td>\n",
       "      <td>05327aaa2c1fbbbc89abf6c7d6d9eb68</td>\n",
       "    </tr>\n",
       "    <tr>\n",
       "      <td>8</td>\n",
       "      <td>1243</td>\n",
       "      <td>&amp;#8216;Don&amp;#8217;t reach! Don&amp;#8217;t reach!&amp;#...</td>\n",
       "      <td>2021-04-28T07:39:21</td>\n",
       "      <td>https://www.kxan.com/news/local/austin/austin-...</td>\n",
       "      <td>ec3c344b5b8683d992f73d21d253c6f7</td>\n",
       "    </tr>\n",
       "    <tr>\n",
       "      <td>9</td>\n",
       "      <td>4670</td>\n",
       "      <td>Austin group demands protest-related charge fo...</td>\n",
       "      <td>2021-04-27T22:39:45</td>\n",
       "      <td>https://www.kxan.com/news/local/austin/austin-...</td>\n",
       "      <td>fb37707da03ab552fd030b8b9859d0f9</td>\n",
       "    </tr>\n",
       "  </tbody>\n",
       "</table>\n",
       "</div>"
      ],
      "text/plain": [
       "  Author                                              Title  \\\n",
       "0   4670  Josh Duggar, &#8217;19 Kids&#8217; star, charg...   \n",
       "1   3885  Man stabbed multiple times in north Austin, su...   \n",
       "2   4670  19-year-old dead after shooting at southeast A...   \n",
       "3   4670     Josh Duggar arrested; placed on a federal hold   \n",
       "4   4670  &#8216;No crime occurred&#8217;: DPS, DA concl...   \n",
       "5   4670  Police: Ex-UT student broke into dorm rooms, c...   \n",
       "6   4670  Suspect caught trying to break into car, point...   \n",
       "7   3885  Man arrested, accused of pointing gun and pret...   \n",
       "8   1243  &#8216;Don&#8217;t reach! Don&#8217;t reach!&#...   \n",
       "9   4670  Austin group demands protest-related charge fo...   \n",
       "\n",
       "                  Time                                         ArticleURL  \\\n",
       "0  2021-04-30T14:05:08  https://www.kxan.com/news/national-news/josh-d...   \n",
       "1  2021-04-30T06:19:15  https://www.kxan.com/news/crime/man-stabbed-mu...   \n",
       "2  2021-04-29T20:38:20  https://www.kxan.com/news/crime/police-investi...   \n",
       "3  2021-04-29T20:05:23  https://www.kxan.com/news/national-news/josh-d...   \n",
       "4  2021-04-29T17:19:30  https://www.kxan.com/news/texas/no-crime-occur...   \n",
       "5  2021-04-29T15:53:32  https://www.kxan.com/news/crime/police-ex-ut-s...   \n",
       "6  2021-04-29T15:13:30  https://www.kxan.com/news/local/austin/suspect...   \n",
       "7  2021-04-29T13:58:26  https://www.kxan.com/news/crime/man-arrested-a...   \n",
       "8  2021-04-28T07:39:21  https://www.kxan.com/news/local/austin/austin-...   \n",
       "9  2021-04-27T22:39:45  https://www.kxan.com/news/local/austin/austin-...   \n",
       "\n",
       "                          articleID  \n",
       "0  2f6ce1a4821c44098cf75d1b1267cab9  \n",
       "1  96f628bd3e1517791adb1ce1f3c0bf7b  \n",
       "2  61cbbbd705c095a288458e20690a31fe  \n",
       "3  7cfa52f79406ec845689bcdea2662f4a  \n",
       "4  92572e38548c75168d65369b11d9f73b  \n",
       "5  4614fa185d51a58c33bb3e36fe151474  \n",
       "6  cbd33cabf433396734a2a54b19855f70  \n",
       "7  05327aaa2c1fbbbc89abf6c7d6d9eb68  \n",
       "8  ec3c344b5b8683d992f73d21d253c6f7  \n",
       "9  fb37707da03ab552fd030b8b9859d0f9  "
      ]
     },
     "execution_count": 9,
     "metadata": {},
     "output_type": "execute_result"
    }
   ],
   "source": [
    "scraper = NewsScraper(kxan)\n",
    "data = collect(scraper,pages=5, from_page=1, delay=1)      \n",
    "data.tail(n=10)"
   ]
  },
  {
   "cell_type": "markdown",
   "metadata": {},
   "source": [
    "# Setup"
   ]
  },
  {
   "cell_type": "code",
   "execution_count": 70,
   "metadata": {},
   "outputs": [],
   "source": [
    "# Imports \n",
    "%matplotlib inline\n",
    "\n",
    "import numpy as np\n",
    "import pandas as pd\n",
    "import matplotlib.pyplot as plt\n",
    "import matplotlib.ticker as mtick\n",
    "from scipy.stats import chisquare"
   ]
  },
  {
   "cell_type": "markdown",
   "metadata": {},
   "source": [
    "# Data Cleaning"
   ]
  },
  {
   "cell_type": "markdown",
   "metadata": {},
   "source": [
    "From the scraping section and data section, there are two types of input CSVs.\n",
    "\n",
    "First, there is the news data which contains a list of news articles with their dates. We need to convert this into a table where each news website will have a list of each type of major crime as one variable and the year as another. Then find the number of total crimes commited of that type in a given year. For a given year, we can normalize that data and average it over a certain number of years to find the proportions of crimes reported. The tricky task here is to bucket a specific news article into a crime type or ignore it entirely as a non-crime report.\n",
    "\n",
    "Second, there is the input data of the crime actually committed. In California, this data is given cleanly from the government in already split categories of the type of crime committed and the year. It is simply a  matter of normalizing each year's crime data to find the proportions of crimes committed. In Texas, the data is bit trickier because I could not find a dataset that aggregrated the crime data. Instead, there is a list of all crimes committed, and aggregated that data into categories and years to determine the proportion of crime types reported per year. Aggregating this data required the same type of bucketing system used in the news data cleaning. "
   ]
  },
  {
   "cell_type": "markdown",
   "metadata": {},
   "source": [
    "First, let's read in our news data that came from the data scraping section above. It is important to note that the KXAN and Texas Monthly data is not as numerous as the SF Examiner or Daily News. This could be a potential source of bias, but it is important to note. "
   ]
  },
  {
   "cell_type": "code",
   "execution_count": 71,
   "metadata": {},
   "outputs": [],
   "source": [
    "sfexaminerDF = pd.read_csv('sfexaminer.csv')\n",
    "dailynewsDF = pd.read_csv('dailynews.csv')\n",
    "kxanDF = pd.read_csv('kxan.csv')\n",
    "texasmonthlyDF = pd.read_csv('texasmonthly.csv')"
   ]
  },
  {
   "cell_type": "markdown",
   "metadata": {},
   "source": [
    "And just for some clarity on the output of the data scraping, here is some entries in the datasets for California and Texas."
   ]
  },
  {
   "cell_type": "code",
   "execution_count": 72,
   "metadata": {},
   "outputs": [
    {
     "data": {
      "text/html": [
       "<div>\n",
       "<style scoped>\n",
       "    .dataframe tbody tr th:only-of-type {\n",
       "        vertical-align: middle;\n",
       "    }\n",
       "\n",
       "    .dataframe tbody tr th {\n",
       "        vertical-align: top;\n",
       "    }\n",
       "\n",
       "    .dataframe thead th {\n",
       "        text-align: right;\n",
       "    }\n",
       "</style>\n",
       "<table border=\"1\" class=\"dataframe\">\n",
       "  <thead>\n",
       "    <tr style=\"text-align: right;\">\n",
       "      <th></th>\n",
       "      <th>Unnamed: 0</th>\n",
       "      <th>Author</th>\n",
       "      <th>Title</th>\n",
       "      <th>Time</th>\n",
       "      <th>ArticleURL</th>\n",
       "      <th>articleID</th>\n",
       "    </tr>\n",
       "  </thead>\n",
       "  <tbody>\n",
       "    <tr>\n",
       "      <th>0</th>\n",
       "      <td>0</td>\n",
       "      <td>Michael Barba</td>\n",
       "      <td>SFSU bomb scare suspect threatened to ‘shoot u...</td>\n",
       "      <td>Nov 25, 2019</td>\n",
       "      <td>https://www.sfexaminer.com/news/one-in-custody...</td>\n",
       "      <td>a26bb172fabc61a26ddb0e0c20c207ed</td>\n",
       "    </tr>\n",
       "    <tr>\n",
       "      <th>1</th>\n",
       "      <td>1</td>\n",
       "      <td>Michael Barba</td>\n",
       "      <td>Man arrested for allegedly trying to cut woman...</td>\n",
       "      <td>Nov 25, 2019</td>\n",
       "      <td>https://www.sfexaminer.com/news/man-arrested-f...</td>\n",
       "      <td>27c573232d3907c5586e817e29f7bce0</td>\n",
       "    </tr>\n",
       "    <tr>\n",
       "      <th>2</th>\n",
       "      <td>2</td>\n",
       "      <td>Examiner Staff</td>\n",
       "      <td>USF spooked by reports of shooting threat</td>\n",
       "      <td>Nov 24, 2019</td>\n",
       "      <td>https://www.sfexaminer.com/news/usf-spooked-by...</td>\n",
       "      <td>fe5c152fcb754a36ad4e044fff153bfd</td>\n",
       "    </tr>\n",
       "    <tr>\n",
       "      <th>3</th>\n",
       "      <td>3</td>\n",
       "      <td>Bay City News</td>\n",
       "      <td>BART homicide suspect charged with murder in f...</td>\n",
       "      <td>Nov 21, 2019</td>\n",
       "      <td>https://www.sfexaminer.com/news/suspect-in-fat...</td>\n",
       "      <td>d360a2466a34d0363f74ad6e1ed58eb5</td>\n",
       "    </tr>\n",
       "    <tr>\n",
       "      <th>4</th>\n",
       "      <td>4</td>\n",
       "      <td>Michael Barba</td>\n",
       "      <td>Former SF deputy sentenced to prison for fraud...</td>\n",
       "      <td>Nov 21, 2019</td>\n",
       "      <td>https://www.sfexaminer.com/news/former-sf-depu...</td>\n",
       "      <td>075d55db253975589c102eeab15b9a47</td>\n",
       "    </tr>\n",
       "  </tbody>\n",
       "</table>\n",
       "</div>"
      ],
      "text/plain": [
       "   Unnamed: 0          Author  \\\n",
       "0           0   Michael Barba   \n",
       "1           1   Michael Barba   \n",
       "2           2  Examiner Staff   \n",
       "3           3   Bay City News   \n",
       "4           4   Michael Barba   \n",
       "\n",
       "                                               Title          Time  \\\n",
       "0  SFSU bomb scare suspect threatened to ‘shoot u...  Nov 25, 2019   \n",
       "1  Man arrested for allegedly trying to cut woman...  Nov 25, 2019   \n",
       "2          USF spooked by reports of shooting threat  Nov 24, 2019   \n",
       "3  BART homicide suspect charged with murder in f...  Nov 21, 2019   \n",
       "4  Former SF deputy sentenced to prison for fraud...  Nov 21, 2019   \n",
       "\n",
       "                                          ArticleURL  \\\n",
       "0  https://www.sfexaminer.com/news/one-in-custody...   \n",
       "1  https://www.sfexaminer.com/news/man-arrested-f...   \n",
       "2  https://www.sfexaminer.com/news/usf-spooked-by...   \n",
       "3  https://www.sfexaminer.com/news/suspect-in-fat...   \n",
       "4  https://www.sfexaminer.com/news/former-sf-depu...   \n",
       "\n",
       "                          articleID  \n",
       "0  a26bb172fabc61a26ddb0e0c20c207ed  \n",
       "1  27c573232d3907c5586e817e29f7bce0  \n",
       "2  fe5c152fcb754a36ad4e044fff153bfd  \n",
       "3  d360a2466a34d0363f74ad6e1ed58eb5  \n",
       "4  075d55db253975589c102eeab15b9a47  "
      ]
     },
     "execution_count": 72,
     "metadata": {},
     "output_type": "execute_result"
    }
   ],
   "source": [
    "sfexaminerDF.head(5)"
   ]
  },
  {
   "cell_type": "code",
   "execution_count": 73,
   "metadata": {},
   "outputs": [
    {
     "data": {
      "text/html": [
       "<div>\n",
       "<style scoped>\n",
       "    .dataframe tbody tr th:only-of-type {\n",
       "        vertical-align: middle;\n",
       "    }\n",
       "\n",
       "    .dataframe tbody tr th {\n",
       "        vertical-align: top;\n",
       "    }\n",
       "\n",
       "    .dataframe thead th {\n",
       "        text-align: right;\n",
       "    }\n",
       "</style>\n",
       "<table border=\"1\" class=\"dataframe\">\n",
       "  <thead>\n",
       "    <tr style=\"text-align: right;\">\n",
       "      <th></th>\n",
       "      <th>Unnamed: 0</th>\n",
       "      <th>Author</th>\n",
       "      <th>Title</th>\n",
       "      <th>Time</th>\n",
       "      <th>ArticleURL</th>\n",
       "      <th>articleID</th>\n",
       "    </tr>\n",
       "  </thead>\n",
       "  <tbody>\n",
       "    <tr>\n",
       "      <th>0</th>\n",
       "      <td>0</td>\n",
       "      <td>Dan Solomon</td>\n",
       "      <td>Rodney Reed Will Not Be Executed on November 20</td>\n",
       "      <td>Nov 15, 2019 — By Dan Solomon</td>\n",
       "      <td>https://www.texasmonthly.com/news/rodney-reed-...</td>\n",
       "      <td>38520e50a9c6a54d4e823d57539457f1</td>\n",
       "    </tr>\n",
       "    <tr>\n",
       "      <th>1</th>\n",
       "      <td>1</td>\n",
       "      <td>Cat Cardenas</td>\n",
       "      <td>Inside the Death Row Case That Has Everyone Fr...</td>\n",
       "      <td>Nov 13, 2019 — By Cat Cardenas</td>\n",
       "      <td>https://www.texasmonthly.com/news/rodney-reed-...</td>\n",
       "      <td>037eea14e11be34c2a7192ffe17d6ca3</td>\n",
       "    </tr>\n",
       "    <tr>\n",
       "      <th>2</th>\n",
       "      <td>2</td>\n",
       "      <td>Christopher Hooks</td>\n",
       "      <td>What Happens When the Texas Governor Shares th...</td>\n",
       "      <td>Oct 29, 2019 — By Christopher Hooks</td>\n",
       "      <td>https://www.texasmonthly.com/politics/what-hap...</td>\n",
       "      <td>02d5decb695e3400f1d0cdff7e4553a8</td>\n",
       "    </tr>\n",
       "    <tr>\n",
       "      <th>3</th>\n",
       "      <td>3</td>\n",
       "      <td>Dan Solomon</td>\n",
       "      <td>Atatiana Jefferson’s Death Gives Black North T...</td>\n",
       "      <td>Oct 15, 2019 — By Dan Solomon</td>\n",
       "      <td>https://www.texasmonthly.com/news/atatiana-jef...</td>\n",
       "      <td>c87f7280452e1cdbf72670dad5ba4e69</td>\n",
       "    </tr>\n",
       "    <tr>\n",
       "      <th>4</th>\n",
       "      <td>4</td>\n",
       "      <td>Skip Hollandsworth</td>\n",
       "      <td>The Hunt for the Serial Killer of Laredo</td>\n",
       "      <td>Sep 18, 2019 — By Skip Hollandsworth</td>\n",
       "      <td>https://www.texasmonthly.com/articles/serial-k...</td>\n",
       "      <td>e5fe0b2ed1b4be3743d5d6f72fdfa717</td>\n",
       "    </tr>\n",
       "  </tbody>\n",
       "</table>\n",
       "</div>"
      ],
      "text/plain": [
       "   Unnamed: 0              Author  \\\n",
       "0           0         Dan Solomon   \n",
       "1           1        Cat Cardenas   \n",
       "2           2   Christopher Hooks   \n",
       "3           3         Dan Solomon   \n",
       "4           4  Skip Hollandsworth   \n",
       "\n",
       "                                               Title  \\\n",
       "0    Rodney Reed Will Not Be Executed on November 20   \n",
       "1  Inside the Death Row Case That Has Everyone Fr...   \n",
       "2  What Happens When the Texas Governor Shares th...   \n",
       "3  Atatiana Jefferson’s Death Gives Black North T...   \n",
       "4           The Hunt for the Serial Killer of Laredo   \n",
       "\n",
       "                                   Time  \\\n",
       "0         Nov 15, 2019 — By Dan Solomon   \n",
       "1        Nov 13, 2019 — By Cat Cardenas   \n",
       "2   Oct 29, 2019 — By Christopher Hooks   \n",
       "3         Oct 15, 2019 — By Dan Solomon   \n",
       "4  Sep 18, 2019 — By Skip Hollandsworth   \n",
       "\n",
       "                                          ArticleURL  \\\n",
       "0  https://www.texasmonthly.com/news/rodney-reed-...   \n",
       "1  https://www.texasmonthly.com/news/rodney-reed-...   \n",
       "2  https://www.texasmonthly.com/politics/what-hap...   \n",
       "3  https://www.texasmonthly.com/news/atatiana-jef...   \n",
       "4  https://www.texasmonthly.com/articles/serial-k...   \n",
       "\n",
       "                          articleID  \n",
       "0  38520e50a9c6a54d4e823d57539457f1  \n",
       "1  037eea14e11be34c2a7192ffe17d6ca3  \n",
       "2  02d5decb695e3400f1d0cdff7e4553a8  \n",
       "3  c87f7280452e1cdbf72670dad5ba4e69  \n",
       "4  e5fe0b2ed1b4be3743d5d6f72fdfa717  "
      ]
     },
     "execution_count": 73,
     "metadata": {},
     "output_type": "execute_result"
    }
   ],
   "source": [
    "texasmonthlyDF.head(5)"
   ]
  },
  {
   "cell_type": "markdown",
   "metadata": {},
   "source": [
    "To create a bucketing system to categorize news articles by type of crime they are reporting (if any at all). Essentially, through some empirical trials, there are keywords that were typically identifiers in a news article title about the type of crime being reported."
   ]
  },
  {
   "cell_type": "code",
   "execution_count": 74,
   "metadata": {},
   "outputs": [],
   "source": [
    "def bucket_crime(string):\n",
    "    '''\n",
    "    Place title of news article into appropriate bucket for a crime or completely throw it out as not a crime because \n",
    "    we are only looking at proportions of crimes reported\n",
    "    '''\n",
    "    \n",
    "    string = string.lower()\n",
    "    string = string.strip()\n",
    "    \n",
    "    violent_offenses = [\"violence\", \"murder\", \"kill\", \"assault\", \"homicide\", \"terrorism\", \"manslaughter\", \"shoot\", \"stab\", \"battery\", \"drugging\", \"shot\", \"wound\", \"attack\", \"kidnap\"]\n",
    "    property_offenses = [\"steal\", \"fraud\", \"robbery\", \"tax evasion\", \"burglar\", \"theft\", \"shoplifting\", \"vandalism\", \"arson\", \"fencing\", \"rob\", \"stole\", \"broke into\", \"break\", \"property\"]\n",
    "    drug_offenses = [\"drug\", \"heroin\", \"marijuana\", \"cartel\", \"meth\", \"crystal\", \"cocaine\", \"coke\", \"crack\", \"weed\", \"cannabis\", \"overdose\", \"dealer\", \"syringe\"]\n",
    "    sex_offenses = [\"sexual assault\", \"sex\", \"rape\", \"molest\", \"sexual harassment\", \"prostitution\", \"human trafficking\", \"battery\", \"indecent exposure\", \"groping\", \"necrophilia\", \"#MeToo\", \"bodily fluids\", \"sexual\", \"child porn\"]\n",
    "    other_offenses = [\"threat\", \"cyber\", \"pursuit\"]   \n",
    "    uncategorizable_offenses = [\"driver\", \"crash\", \"car\", \"accident\", \"fire\", \"flame\", \"burn\", \"earthquake\", \"quake\"]\n",
    "    \n",
    "    if any(word in string for word in uncategorizable_offenses):\n",
    "        output = \"Uncategorizable\"\n",
    "    elif any(word in string for word in violent_offenses):\n",
    "        output = \"Violent Offenses\"\n",
    "    elif any(word in string for word in property_offenses):\n",
    "        output = \"Property Offenses\"\n",
    "    elif any(word in string for word in drug_offenses):\n",
    "        output = \"Drug Offenses\"\n",
    "    elif any(word in string for word in sex_offenses):\n",
    "        output = \"Sex Offenses\"\n",
    "    elif any(word in string for word in other_offenses):\n",
    "        output = \"Other Offenses\"\n",
    "    else:\n",
    "        output = \"Uncategorizable\"\n",
    "    \n",
    "    return output"
   ]
  },
  {
   "cell_type": "markdown",
   "metadata": {},
   "source": [
    "A bucketing system was created for taking the date of an article and converting it to the year the article was written to remove unneccesary information for our analysis."
   ]
  },
  {
   "cell_type": "code",
   "execution_count": 75,
   "metadata": {},
   "outputs": [],
   "source": [
    "def bucket_date(string):\n",
    "    '''\n",
    "    Change time of article to be only the year because that's what matches crime report data\n",
    "    '''\n",
    "    \n",
    "    string = string.lower()\n",
    "    string = string.strip()\n",
    "    \n",
    "    if \",\" not in string:\n",
    "        output = string[0:4]\n",
    "    else:\n",
    "        output = string[string.find(\",\") + 1: string.find(\",\") + 6]\n",
    "    \n",
    "    return int(output)"
   ]
  },
  {
   "cell_type": "markdown",
   "metadata": {},
   "source": [
    "apply these bucketing functions to clean our data up a bit. "
   ]
  },
  {
   "cell_type": "code",
   "execution_count": 76,
   "metadata": {},
   "outputs": [],
   "source": [
    "dailynewsDF[\"Title\"] = dailynewsDF[\"Title\"].apply(bucket_crime)\n",
    "sfexaminerDF[\"Title\"] = sfexaminerDF[\"Title\"].apply(bucket_crime)\n",
    "kxanDF[\"Title\"] = kxanDF[\"Title\"].apply(bucket_crime)\n",
    "texasmonthlyDF[\"Title\"] = texasmonthlyDF[\"Title\"].apply(bucket_crime)\n",
    "\n",
    "\n",
    "dailynewsDF[\"Time\"] = dailynewsDF[\"Time\"].apply(bucket_date)\n",
    "sfexaminerDF[\"Time\"] = sfexaminerDF[\"Time\"].apply(bucket_date)\n",
    "kxanDF[\"Time\"] = kxanDF[\"Time\"].apply(bucket_date)\n",
    "texasmonthlyDF[\"Time\"] = texasmonthlyDF[\"Time\"].apply(bucket_date)"
   ]
  },
  {
   "cell_type": "markdown",
   "metadata": {},
   "source": [
    "In the following cells, we see the results of the bucketing system. In the first, we see examples of news articles categorized as \"Violent Offenses\". In the second, we see those categorized as \"Uncategorizable\"."
   ]
  },
  {
   "cell_type": "code",
   "execution_count": 77,
   "metadata": {},
   "outputs": [
    {
     "name": "stdout",
     "output_type": "stream",
     "text": [
      "Violent Offenses: ['Help sought after NoHo assault arrest\\n'\n",
      " 'Patron fatally shot at Lancaster topless bar\\n'\n",
      " 'Man suspected of drunken drive-by shooting at Pomona Police Department\\n'\n",
      " 'Pasadena police release names of 2 officers involved in fatal shooting\\n'\n",
      " '911 caller arrested in deadly police shooting in Pasadena\\n']\n",
      "Uncategorizable: ['Actress Amanda Bynes arrested on suspicion of DUI\\n'\n",
      " 'Police arrest driver texting on cellphone with baby in her lap\\n'\n",
      " 'Anti-Semitic message written in maple syrup on Northridge driveway\\n'\n",
      " 'North Hollywood man among 3,000 arrested in nationwide sweep for criminal illegal immigrants\\n'\n",
      " 'LAPD chief’s controversial impound policy to start in 3 weeks\\n']\n"
     ]
    }
   ],
   "source": [
    "raw_dailynewsDF = pd.read_csv(\"dailynews.csv\")\n",
    "print(\"Violent Offenses:\", raw_dailynewsDF[\"Title\"][dailynewsDF[dailynewsDF[\"Title\"] == \"Violent Offenses\"].index].tail(5).values)\n",
    "print(\"Uncategorizable:\", raw_dailynewsDF[\"Title\"][dailynewsDF[dailynewsDF[\"Title\"] == \"Uncategorizable\"].index].tail(5).values)"
   ]
  },
  {
   "cell_type": "markdown",
   "metadata": {},
   "source": [
    "In the following cell, I am going to drop the Uncategorizable data to ignore non-crimes in the analysis. Also, I will drop the 2019 data because the crime report data has not been updated for this year. Finally, I drop extra unnecessary columns for the analysis"
   ]
  },
  {
   "cell_type": "code",
   "execution_count": 78,
   "metadata": {},
   "outputs": [],
   "source": [
    "#drop non-crime news data\n",
    "dailynewsDF.drop(dailynewsDF[dailynewsDF['Title'] == \"Uncategorizable\"].index , inplace=True)\n",
    "sfexaminerDF.drop(sfexaminerDF[sfexaminerDF['Title'] == \"Uncategorizable\"].index , inplace=True)\n",
    "kxanDF.drop(kxanDF[kxanDF['Title'] == \"Uncategorizable\"].index , inplace=True)\n",
    "texasmonthlyDF.drop(texasmonthlyDF[texasmonthlyDF['Title'] == \"Uncategorizable\"].index , inplace=True)\n",
    "\n",
    "\n",
    "#drop news from 2019 because we do not have crime report data for that \n",
    "dailynewsDF.drop(dailynewsDF[dailynewsDF['Time'] == 2019].index , inplace=True)\n",
    "sfexaminerDF.drop(sfexaminerDF[sfexaminerDF['Time'] == 2019].index , inplace=True)\n",
    "kxanDF.drop(kxanDF[kxanDF['Time'] == 2019].index , inplace=True)\n",
    "texasmonthlyDF.drop(texasmonthlyDF[texasmonthlyDF['Time'] == 2019].index , inplace=True)\n",
    "\n",
    "#drop unneccessary columns for our analysis\n",
    "dailynewsDF.drop(columns=[\"Unnamed: 0\", \"Author\", \"ArticleURL\", \"articleID\"], inplace=True)\n",
    "sfexaminerDF.drop(columns=[\"Unnamed: 0\", \"Author\", \"ArticleURL\", \"articleID\"], inplace=True)\n",
    "kxanDF.drop(columns=[\"Unnamed: 0\", \"Author\", \"ArticleURL\", \"articleID\", \"Unnamed: 0.1\"], inplace=True)\n",
    "texasmonthlyDF.drop(columns=[\"Unnamed: 0\", \"Author\", \"ArticleURL\", \"articleID\"], inplace=True)"
   ]
  },
  {
   "cell_type": "markdown",
   "metadata": {},
   "source": [
    "Here are some examples of the cleaned data from the different news sources. "
   ]
  },
  {
   "cell_type": "code",
   "execution_count": 79,
   "metadata": {},
   "outputs": [
    {
     "name": "stdout",
     "output_type": "stream",
     "text": [
      "Daily News:\n",
      "                   Title  Time\n",
      "1979   Violent Offenses  2018\n",
      "1980   Violent Offenses  2018\n",
      "1981   Violent Offenses  2018\n",
      "1989  Property Offenses  2018\n",
      "1991   Violent Offenses  2018\n",
      "\n",
      "SF Examiner News:\n",
      "                 Title  Time\n",
      "490  Violent Offenses  2018\n",
      "494  Violent Offenses  2018\n",
      "495  Violent Offenses  2018\n",
      "496  Violent Offenses  2018\n",
      "497    Other Offenses  2018\n",
      "\n",
      "KXAN:\n",
      "      Time              Title\n",
      "785  2018  Property Offenses\n",
      "786  2018   Violent Offenses\n",
      "788  2018   Violent Offenses\n",
      "789  2018   Violent Offenses\n",
      "791  2018   Violent Offenses\n",
      "\n",
      "Texas Monthly:\n",
      "                Title  Time\n",
      "35      Sex Offenses  2018\n",
      "36  Violent Offenses  2018\n",
      "38  Violent Offenses  2018\n",
      "41  Violent Offenses  2018\n",
      "44  Violent Offenses  2018\n"
     ]
    }
   ],
   "source": [
    "print(\"Daily News:\\n\", dailynewsDF.head(5))\n",
    "print()\n",
    "print(\"SF Examiner News:\\n\", sfexaminerDF.head(5))\n",
    "print()\n",
    "print(\"KXAN:\\n\", kxanDF.head(5))\n",
    "print()\n",
    "print(\"Texas Monthly:\\n\", texasmonthlyDF.head(5))"
   ]
  },
  {
   "cell_type": "markdown",
   "metadata": {},
   "source": [
    "Now, let's read in the actual crime report data. The SF and LA data came nicely aggregated, so we just need to drop the years that are not covered by the news reports. The Austin crime data comes in a less nice format, so we will have to do some work with it. In this cell, we simply take the 2 columns we are interested in which is the offense type and the date, so this will effectively look like our post-processed news data without the bucketing applied yet. "
   ]
  },
  {
   "cell_type": "code",
   "execution_count": 80,
   "metadata": {},
   "outputs": [
    {
     "name": "stderr",
     "output_type": "stream",
     "text": [
      "/usr/local/lib/python3.7/site-packages/IPython/core/interactiveshell.py:3051: DtypeWarning: Columns (16) have mixed types. Specify dtype option on import or set low_memory=False.\n",
      "  interactivity=interactivity, compiler=compiler, result=result)\n"
     ]
    }
   ],
   "source": [
    "# Read in SF and LA Real Crime Data from csv\n",
    "sfcrimedataDF = pd.read_csv('State of California Department of Justice - SF.csv', thousands=r',', index_col=0, dtype={'2009': int, '2010': int, '2011': int, '2012': int, '2013': int, '2014': int, '2015': int, '2016': int, '2017': int, '2018': int})\n",
    "lacrimedataDF = pd.read_csv('State of California Department of Justice - LA.csv', thousands=r',', index_col=0, dtype={'2009': int, '2010': int, '2011': int, '2012': int, '2013': int, '2014': int, '2015': int, '2016': int, '2017': int, '2018': int})\n",
    "austincrimedataDF = pd.read_csv(\"austin_crime_reports.csv\")\n",
    "austincrimedataDF = austincrimedataDF[[\"Highest Offense Description\", \"Occurred Date\"]];\n",
    "\n",
    "#drop data that is not covered by our news data\n",
    "sfcrimedataDF.drop(columns=[\"2009\", \"2010\", \"2011\", \"2012\", \"2013\", \"2014\"], inplace=True)\n",
    "lacrimedataDF.drop(columns=[\"2009\", \"2010\", \"2011\", \"2012\", \"2013\", \"2014\"], inplace=True)"
   ]
  },
  {
   "cell_type": "code",
   "execution_count": 81,
   "metadata": {},
   "outputs": [
    {
     "data": {
      "text/html": [
       "<div>\n",
       "<style scoped>\n",
       "    .dataframe tbody tr th:only-of-type {\n",
       "        vertical-align: middle;\n",
       "    }\n",
       "\n",
       "    .dataframe tbody tr th {\n",
       "        vertical-align: top;\n",
       "    }\n",
       "\n",
       "    .dataframe thead th {\n",
       "        text-align: right;\n",
       "    }\n",
       "</style>\n",
       "<table border=\"1\" class=\"dataframe\">\n",
       "  <thead>\n",
       "    <tr style=\"text-align: right;\">\n",
       "      <th></th>\n",
       "      <th>2015</th>\n",
       "      <th>2016</th>\n",
       "      <th>2017</th>\n",
       "      <th>2018</th>\n",
       "    </tr>\n",
       "    <tr>\n",
       "      <th></th>\n",
       "      <th></th>\n",
       "      <th></th>\n",
       "      <th></th>\n",
       "      <th></th>\n",
       "    </tr>\n",
       "  </thead>\n",
       "  <tbody>\n",
       "    <tr>\n",
       "      <th>Violent Offenses</th>\n",
       "      <td>1955</td>\n",
       "      <td>2043</td>\n",
       "      <td>2080</td>\n",
       "      <td>2054</td>\n",
       "    </tr>\n",
       "    <tr>\n",
       "      <th>Property Offenses</th>\n",
       "      <td>1119</td>\n",
       "      <td>1132</td>\n",
       "      <td>1121</td>\n",
       "      <td>1146</td>\n",
       "    </tr>\n",
       "    <tr>\n",
       "      <th>Drug Offenses</th>\n",
       "      <td>858</td>\n",
       "      <td>860</td>\n",
       "      <td>610</td>\n",
       "      <td>791</td>\n",
       "    </tr>\n",
       "    <tr>\n",
       "      <th>Sex Offenses</th>\n",
       "      <td>55</td>\n",
       "      <td>53</td>\n",
       "      <td>67</td>\n",
       "      <td>60</td>\n",
       "    </tr>\n",
       "    <tr>\n",
       "      <th>Other Offenses</th>\n",
       "      <td>3443</td>\n",
       "      <td>3526</td>\n",
       "      <td>3324</td>\n",
       "      <td>3448</td>\n",
       "    </tr>\n",
       "  </tbody>\n",
       "</table>\n",
       "</div>"
      ],
      "text/plain": [
       "                   2015  2016  2017  2018\n",
       "                                         \n",
       "Violent Offenses   1955  2043  2080  2054\n",
       "Property Offenses  1119  1132  1121  1146\n",
       "Drug Offenses       858   860   610   791\n",
       "Sex Offenses         55    53    67    60\n",
       "Other Offenses     3443  3526  3324  3448"
      ]
     },
     "execution_count": 81,
     "metadata": {},
     "output_type": "execute_result"
    }
   ],
   "source": [
    "#drop non-felony offenses such as misdemeanors or status offenses that will not be crimes we consider\n",
    "sfcrimedataDF.drop([\"Felony\", \"Misdemeanor\", \"Status Offenses\"], inplace=True)\n",
    "lacrimedataDF.drop([\"Felony\", \"Misdemeanor\", \"Status Offenses\"], inplace=True)\n",
    "sfcrimedataDF"
   ]
  },
  {
   "cell_type": "code",
   "execution_count": 82,
   "metadata": {},
   "outputs": [
    {
     "data": {
      "text/html": [
       "<div>\n",
       "<style scoped>\n",
       "    .dataframe tbody tr th:only-of-type {\n",
       "        vertical-align: middle;\n",
       "    }\n",
       "\n",
       "    .dataframe tbody tr th {\n",
       "        vertical-align: top;\n",
       "    }\n",
       "\n",
       "    .dataframe thead th {\n",
       "        text-align: right;\n",
       "    }\n",
       "</style>\n",
       "<table border=\"1\" class=\"dataframe\">\n",
       "  <thead>\n",
       "    <tr style=\"text-align: right;\">\n",
       "      <th></th>\n",
       "      <th>2015</th>\n",
       "      <th>2016</th>\n",
       "      <th>2017</th>\n",
       "      <th>2018</th>\n",
       "    </tr>\n",
       "    <tr>\n",
       "      <th></th>\n",
       "      <th></th>\n",
       "      <th></th>\n",
       "      <th></th>\n",
       "      <th></th>\n",
       "    </tr>\n",
       "  </thead>\n",
       "  <tbody>\n",
       "    <tr>\n",
       "      <th>Violent Offenses</th>\n",
       "      <td>28194</td>\n",
       "      <td>27804</td>\n",
       "      <td>28746</td>\n",
       "      <td>28865</td>\n",
       "    </tr>\n",
       "    <tr>\n",
       "      <th>Property Offenses</th>\n",
       "      <td>19041</td>\n",
       "      <td>19914</td>\n",
       "      <td>20213</td>\n",
       "      <td>18901</td>\n",
       "    </tr>\n",
       "    <tr>\n",
       "      <th>Drug Offenses</th>\n",
       "      <td>9753</td>\n",
       "      <td>8970</td>\n",
       "      <td>7302</td>\n",
       "      <td>6412</td>\n",
       "    </tr>\n",
       "    <tr>\n",
       "      <th>Sex Offenses</th>\n",
       "      <td>1228</td>\n",
       "      <td>1102</td>\n",
       "      <td>1074</td>\n",
       "      <td>1029</td>\n",
       "    </tr>\n",
       "    <tr>\n",
       "      <th>Other Offenses</th>\n",
       "      <td>17217</td>\n",
       "      <td>17341</td>\n",
       "      <td>18166</td>\n",
       "      <td>18256</td>\n",
       "    </tr>\n",
       "  </tbody>\n",
       "</table>\n",
       "</div>"
      ],
      "text/plain": [
       "                    2015   2016   2017   2018\n",
       "                                             \n",
       "Violent Offenses   28194  27804  28746  28865\n",
       "Property Offenses  19041  19914  20213  18901\n",
       "Drug Offenses       9753   8970   7302   6412\n",
       "Sex Offenses        1228   1102   1074   1029\n",
       "Other Offenses     17217  17341  18166  18256"
      ]
     },
     "execution_count": 82,
     "metadata": {},
     "output_type": "execute_result"
    }
   ],
   "source": [
    "lacrimedataDF"
   ]
  },
  {
   "cell_type": "code",
   "execution_count": 83,
   "metadata": {},
   "outputs": [
    {
     "data": {
      "text/html": [
       "<div>\n",
       "<style scoped>\n",
       "    .dataframe tbody tr th:only-of-type {\n",
       "        vertical-align: middle;\n",
       "    }\n",
       "\n",
       "    .dataframe tbody tr th {\n",
       "        vertical-align: top;\n",
       "    }\n",
       "\n",
       "    .dataframe thead th {\n",
       "        text-align: right;\n",
       "    }\n",
       "</style>\n",
       "<table border=\"1\" class=\"dataframe\">\n",
       "  <thead>\n",
       "    <tr style=\"text-align: right;\">\n",
       "      <th></th>\n",
       "      <th>Highest Offense Description</th>\n",
       "      <th>Occurred Date</th>\n",
       "    </tr>\n",
       "  </thead>\n",
       "  <tbody>\n",
       "    <tr>\n",
       "      <th>0</th>\n",
       "      <td>PROTECTIVE ORDER</td>\n",
       "      <td>01/23/2012</td>\n",
       "    </tr>\n",
       "    <tr>\n",
       "      <th>1</th>\n",
       "      <td>ASSAULT WITH INJURY</td>\n",
       "      <td>10/10/2007</td>\n",
       "    </tr>\n",
       "    <tr>\n",
       "      <th>2</th>\n",
       "      <td>FAMILY DISTURBANCE</td>\n",
       "      <td>05/02/2008</td>\n",
       "    </tr>\n",
       "    <tr>\n",
       "      <th>3</th>\n",
       "      <td>ASSAULT WITH INJURY</td>\n",
       "      <td>03/31/2006</td>\n",
       "    </tr>\n",
       "    <tr>\n",
       "      <th>4</th>\n",
       "      <td>RUNAWAY CHILD</td>\n",
       "      <td>03/09/2007</td>\n",
       "    </tr>\n",
       "    <tr>\n",
       "      <th>5</th>\n",
       "      <td>CRASH/FAIL STOP AND RENDER AID</td>\n",
       "      <td>04/09/2008</td>\n",
       "    </tr>\n",
       "    <tr>\n",
       "      <th>6</th>\n",
       "      <td>PROTECTIVE ORDER</td>\n",
       "      <td>07/02/2015</td>\n",
       "    </tr>\n",
       "    <tr>\n",
       "      <th>7</th>\n",
       "      <td>ASSAULT W/INJURY-FAM/DATE VIOL</td>\n",
       "      <td>10/13/2003</td>\n",
       "    </tr>\n",
       "  </tbody>\n",
       "</table>\n",
       "</div>"
      ],
      "text/plain": [
       "      Highest Offense Description Occurred Date\n",
       "0                PROTECTIVE ORDER    01/23/2012\n",
       "1             ASSAULT WITH INJURY    10/10/2007\n",
       "2              FAMILY DISTURBANCE    05/02/2008\n",
       "3             ASSAULT WITH INJURY    03/31/2006\n",
       "4                   RUNAWAY CHILD    03/09/2007\n",
       "5  CRASH/FAIL STOP AND RENDER AID    04/09/2008\n",
       "6                PROTECTIVE ORDER    07/02/2015\n",
       "7  ASSAULT W/INJURY-FAM/DATE VIOL    10/13/2003"
      ]
     },
     "execution_count": 83,
     "metadata": {},
     "output_type": "execute_result"
    }
   ],
   "source": [
    "austincrimedataDF.head(8)"
   ]
  },
  {
   "cell_type": "markdown",
   "metadata": {},
   "source": [
    "Following are helper methods. First, extract only the year from the austin format data set for the \"Occured Date\". There is also a method that converts all \"Uncategorizable\" as \"Other Offenses\" because a crime was committed, but there isn't enough information to categorize it in one of the main categories. "
   ]
  },
  {
   "cell_type": "code",
   "execution_count": 84,
   "metadata": {},
   "outputs": [],
   "source": [
    "# Finds the year from the format given in the Austin Crime Dataset\n",
    "def crime_date(string):\n",
    "    return int(string[6:10])\n",
    "\n",
    "# For all the uncategorizable crime rows in the Austin Crime Dataset, categorize them as Other Offenses\n",
    "def relabel(string):\n",
    "    if string==\"Uncategorizable\":\n",
    "        return \"Other Offenses\"\n",
    "    else:\n",
    "        return string"
   ]
  },
  {
   "cell_type": "markdown",
   "metadata": {},
   "source": [
    "Now, it's time to bucket each crime type using the previous bucketing method. The keywords-bucketing strategy will again have some faults, but it empirically proved its effectiveness. Then, extract the year using a helper method. And reassign the \"Uncategorizable\" offenses to \"Other Offenses\". Finally, look at the applicable years for the project that are covered by the news data. "
   ]
  },
  {
   "cell_type": "code",
   "execution_count": 85,
   "metadata": {},
   "outputs": [],
   "source": [
    "# Sort the crimes into buckets\n",
    "austincrimedataDF[\"Title\"]=austincrimedataDF[\"Highest Offense Description\"].apply(bucket_crime)\n",
    "\n",
    "# Find the year of the crime\n",
    "austincrimedataDF[\"Time\"]=austincrimedataDF[\"Occurred Date\"].apply(crime_date)\n",
    "\n",
    "# Relabel all uncategorizable crimes\n",
    "austincrimedataDF[\"Title\"] = austincrimedataDF[\"Title\"].apply(relabel)\n",
    "\n",
    "# Only take the years we have news data for\n",
    "austincrimedataDF = austincrimedataDF[austincrimedataDF.Time >= 2015]\n",
    "austincrimedataDF = austincrimedataDF[austincrimedataDF.Time <= 2018]"
   ]
  },
  {
   "cell_type": "markdown",
   "metadata": {},
   "source": [
    "Here, we see the positive results of our bucketing system on the austin crime report data. "
   ]
  },
  {
   "cell_type": "code",
   "execution_count": 86,
   "metadata": {},
   "outputs": [
    {
     "data": {
      "text/html": [
       "<div>\n",
       "<style scoped>\n",
       "    .dataframe tbody tr th:only-of-type {\n",
       "        vertical-align: middle;\n",
       "    }\n",
       "\n",
       "    .dataframe tbody tr th {\n",
       "        vertical-align: top;\n",
       "    }\n",
       "\n",
       "    .dataframe thead th {\n",
       "        text-align: right;\n",
       "    }\n",
       "</style>\n",
       "<table border=\"1\" class=\"dataframe\">\n",
       "  <thead>\n",
       "    <tr style=\"text-align: right;\">\n",
       "      <th></th>\n",
       "      <th>Highest Offense Description</th>\n",
       "      <th>Occurred Date</th>\n",
       "      <th>Title</th>\n",
       "      <th>Time</th>\n",
       "    </tr>\n",
       "  </thead>\n",
       "  <tbody>\n",
       "    <tr>\n",
       "      <th>2189177</th>\n",
       "      <td>THEFT</td>\n",
       "      <td>12/24/2018</td>\n",
       "      <td>Property Offenses</td>\n",
       "      <td>2018</td>\n",
       "    </tr>\n",
       "    <tr>\n",
       "      <th>2189180</th>\n",
       "      <td>FRAUD - OTHER</td>\n",
       "      <td>11/14/2017</td>\n",
       "      <td>Property Offenses</td>\n",
       "      <td>2017</td>\n",
       "    </tr>\n",
       "    <tr>\n",
       "      <th>2189192</th>\n",
       "      <td>AUTO THEFT</td>\n",
       "      <td>02/01/2018</td>\n",
       "      <td>Property Offenses</td>\n",
       "      <td>2018</td>\n",
       "    </tr>\n",
       "    <tr>\n",
       "      <th>2189194</th>\n",
       "      <td>THEFT</td>\n",
       "      <td>10/29/2016</td>\n",
       "      <td>Property Offenses</td>\n",
       "      <td>2016</td>\n",
       "    </tr>\n",
       "    <tr>\n",
       "      <th>2189195</th>\n",
       "      <td>BURGLARY OF RESIDENCE</td>\n",
       "      <td>07/05/2017</td>\n",
       "      <td>Property Offenses</td>\n",
       "      <td>2017</td>\n",
       "    </tr>\n",
       "    <tr>\n",
       "      <th>2189196</th>\n",
       "      <td>ASSAULT BY CONTACT FAM/DATING</td>\n",
       "      <td>09/02/2015</td>\n",
       "      <td>Violent Offenses</td>\n",
       "      <td>2015</td>\n",
       "    </tr>\n",
       "    <tr>\n",
       "      <th>2189201</th>\n",
       "      <td>VIOL OF PROTECTIVE ORDER</td>\n",
       "      <td>01/02/2017</td>\n",
       "      <td>Other Offenses</td>\n",
       "      <td>2017</td>\n",
       "    </tr>\n",
       "    <tr>\n",
       "      <th>2189202</th>\n",
       "      <td>DISTURBANCE - OTHER</td>\n",
       "      <td>09/25/2015</td>\n",
       "      <td>Other Offenses</td>\n",
       "      <td>2015</td>\n",
       "    </tr>\n",
       "  </tbody>\n",
       "</table>\n",
       "</div>"
      ],
      "text/plain": [
       "           Highest Offense Description Occurred Date              Title  Time\n",
       "2189177                          THEFT    12/24/2018  Property Offenses  2018\n",
       "2189180                  FRAUD - OTHER    11/14/2017  Property Offenses  2017\n",
       "2189192                     AUTO THEFT    02/01/2018  Property Offenses  2018\n",
       "2189194                          THEFT    10/29/2016  Property Offenses  2016\n",
       "2189195          BURGLARY OF RESIDENCE    07/05/2017  Property Offenses  2017\n",
       "2189196  ASSAULT BY CONTACT FAM/DATING    09/02/2015   Violent Offenses  2015\n",
       "2189201       VIOL OF PROTECTIVE ORDER    01/02/2017     Other Offenses  2017\n",
       "2189202            DISTURBANCE - OTHER    09/25/2015     Other Offenses  2015"
      ]
     },
     "execution_count": 86,
     "metadata": {},
     "output_type": "execute_result"
    }
   ],
   "source": [
    "austincrimedataDF.tail(8)"
   ]
  },
  {
   "cell_type": "markdown",
   "metadata": {},
   "source": [
    "This following method is VERY important. It takes in a format like the austin crime data printed a few cells above and the news data which have a list of crime types with an associated data. it's important to make this data into a table like the SF and LA given crime data which will have offense type as rows and year as columns. This way it's easy to see for a given year and offense type, how many of those offenses were reported in the given data frame. "
   ]
  },
  {
   "cell_type": "code",
   "execution_count": 87,
   "metadata": {},
   "outputs": [],
   "source": [
    "def createDataFrameTotalsFromDF(dataDF):\n",
    "    '''\n",
    "    Takes a  data frame, and creates a data frame with offense type as rows and the year as the columns\n",
    "    '''\n",
    "    \n",
    "    offenseTypes = [\"Violent Offenses\", \"Property Offenses\", \"Drug Offenses\", \"Sex Offenses\", \"Other Offenses\"]\n",
    "    yearsToCheck = [2015, 2016, 2017, 2018]\n",
    "    \n",
    "    data = []\n",
    "    \n",
    "    for offenseType in offenseTypes:\n",
    "        dictForOffenseType = dict()\n",
    "        for year in yearsToCheck:\n",
    "            dictForOffenseType[year] = len(dataDF[(dataDF[\"Title\"] == offenseType) & (dataDF[\"Time\"] == year)])\n",
    "        data.append(dictForOffenseType)\n",
    "            \n",
    "    totalsDF = pd.DataFrame(data, index = offenseTypes, columns = [2015, 2016, 2017, 2018])\n",
    "    return totalsDF"
   ]
  },
  {
   "cell_type": "markdown",
   "metadata": {},
   "source": [
    "This normalize method is used on a data frame with offense type as rows and the year as columns and converts the yearly numbers into a normal distribution."
   ]
  },
  {
   "cell_type": "code",
   "execution_count": 88,
   "metadata": {},
   "outputs": [],
   "source": [
    "def normalize(x):\n",
    "    '''\n",
    "    Find proportion of the crime committed in the year\n",
    "    '''\n",
    "    return x / x.sum()"
   ]
  },
  {
   "cell_type": "markdown",
   "metadata": {},
   "source": [
    "Apply the normalization on all three of the crime report data for SF, LA, and Austin (Austin first requires finding lump totals using the createDataFrameTotalsFromDF function explained above)."
   ]
  },
  {
   "cell_type": "code",
   "execution_count": 89,
   "metadata": {},
   "outputs": [],
   "source": [
    "sfcrimedataDF = sfcrimedataDF.apply(normalize, axis=0)\n",
    "lacrimedataDF = lacrimedataDF.apply(normalize, axis=0)\n",
    "\n",
    "austincrimedataDF = createDataFrameTotalsFromDF(austincrimedataDF)\n",
    "austincrimedataDF = austincrimedataDF.apply(normalize, axis=0)"
   ]
  },
  {
   "cell_type": "markdown",
   "metadata": {},
   "source": [
    "Here, for every news source find the lump totals using the createDataFrameTotalsFromDF function explained above. Then, normalize the distributions for each year for easier comparison between the news reports and the crime reports. "
   ]
  },
  {
   "cell_type": "code",
   "execution_count": 90,
   "metadata": {},
   "outputs": [],
   "source": [
    "# Create new dataframes with the proportions and normalize them  \n",
    "sfexaminerProportionsDF = createDataFrameTotalsFromDF(sfexaminerDF)\n",
    "dailynewsProportionsDF = createDataFrameTotalsFromDF(dailynewsDF)\n",
    "kxanProportionsDF = createDataFrameTotalsFromDF(kxanDF)\n",
    "texasmonthlyProportionsDF = createDataFrameTotalsFromDF(texasmonthlyDF)\n",
    "\n",
    "sfexaminerProportionsDF = sfexaminerProportionsDF.apply(normalize, axis=0)\n",
    "dailynewsProportionsDF = dailynewsProportionsDF.apply(normalize, axis=0)\n",
    "kxanProportionsDF = kxanProportionsDF.apply(normalize, axis=0)\n",
    "texasmonthlyProportionsDF = texasmonthlyProportionsDF.apply(normalize, axis=0)"
   ]
  },
  {
   "cell_type": "markdown",
   "metadata": {},
   "source": [
    "First, let's take a look at our crime data normalized. "
   ]
  },
  {
   "cell_type": "code",
   "execution_count": 91,
   "metadata": {},
   "outputs": [
    {
     "data": {
      "text/html": [
       "<div>\n",
       "<style scoped>\n",
       "    .dataframe tbody tr th:only-of-type {\n",
       "        vertical-align: middle;\n",
       "    }\n",
       "\n",
       "    .dataframe tbody tr th {\n",
       "        vertical-align: top;\n",
       "    }\n",
       "\n",
       "    .dataframe thead th {\n",
       "        text-align: right;\n",
       "    }\n",
       "</style>\n",
       "<table border=\"1\" class=\"dataframe\">\n",
       "  <thead>\n",
       "    <tr style=\"text-align: right;\">\n",
       "      <th></th>\n",
       "      <th>2015</th>\n",
       "      <th>2016</th>\n",
       "      <th>2017</th>\n",
       "      <th>2018</th>\n",
       "    </tr>\n",
       "    <tr>\n",
       "      <th></th>\n",
       "      <th></th>\n",
       "      <th></th>\n",
       "      <th></th>\n",
       "      <th></th>\n",
       "    </tr>\n",
       "  </thead>\n",
       "  <tbody>\n",
       "    <tr>\n",
       "      <th>Violent Offenses</th>\n",
       "      <td>0.263122</td>\n",
       "      <td>0.268322</td>\n",
       "      <td>0.288809</td>\n",
       "      <td>0.273903</td>\n",
       "    </tr>\n",
       "    <tr>\n",
       "      <th>Property Offenses</th>\n",
       "      <td>0.150606</td>\n",
       "      <td>0.148673</td>\n",
       "      <td>0.155651</td>\n",
       "      <td>0.152820</td>\n",
       "    </tr>\n",
       "    <tr>\n",
       "      <th>Drug Offenses</th>\n",
       "      <td>0.115478</td>\n",
       "      <td>0.112950</td>\n",
       "      <td>0.084699</td>\n",
       "      <td>0.105481</td>\n",
       "    </tr>\n",
       "    <tr>\n",
       "      <th>Sex Offenses</th>\n",
       "      <td>0.007402</td>\n",
       "      <td>0.006961</td>\n",
       "      <td>0.009303</td>\n",
       "      <td>0.008001</td>\n",
       "    </tr>\n",
       "    <tr>\n",
       "      <th>Other Offenses</th>\n",
       "      <td>0.463392</td>\n",
       "      <td>0.463094</td>\n",
       "      <td>0.461538</td>\n",
       "      <td>0.459795</td>\n",
       "    </tr>\n",
       "  </tbody>\n",
       "</table>\n",
       "</div>"
      ],
      "text/plain": [
       "                       2015      2016      2017      2018\n",
       "                                                         \n",
       "Violent Offenses   0.263122  0.268322  0.288809  0.273903\n",
       "Property Offenses  0.150606  0.148673  0.155651  0.152820\n",
       "Drug Offenses      0.115478  0.112950  0.084699  0.105481\n",
       "Sex Offenses       0.007402  0.006961  0.009303  0.008001\n",
       "Other Offenses     0.463392  0.463094  0.461538  0.459795"
      ]
     },
     "execution_count": 91,
     "metadata": {},
     "output_type": "execute_result"
    }
   ],
   "source": [
    "sfcrimedataDF"
   ]
  },
  {
   "cell_type": "code",
   "execution_count": 92,
   "metadata": {},
   "outputs": [
    {
     "data": {
      "text/html": [
       "<div>\n",
       "<style scoped>\n",
       "    .dataframe tbody tr th:only-of-type {\n",
       "        vertical-align: middle;\n",
       "    }\n",
       "\n",
       "    .dataframe tbody tr th {\n",
       "        vertical-align: top;\n",
       "    }\n",
       "\n",
       "    .dataframe thead th {\n",
       "        text-align: right;\n",
       "    }\n",
       "</style>\n",
       "<table border=\"1\" class=\"dataframe\">\n",
       "  <thead>\n",
       "    <tr style=\"text-align: right;\">\n",
       "      <th></th>\n",
       "      <th>2015</th>\n",
       "      <th>2016</th>\n",
       "      <th>2017</th>\n",
       "      <th>2018</th>\n",
       "    </tr>\n",
       "    <tr>\n",
       "      <th></th>\n",
       "      <th></th>\n",
       "      <th></th>\n",
       "      <th></th>\n",
       "      <th></th>\n",
       "    </tr>\n",
       "  </thead>\n",
       "  <tbody>\n",
       "    <tr>\n",
       "      <th>Violent Offenses</th>\n",
       "      <td>0.373762</td>\n",
       "      <td>0.370074</td>\n",
       "      <td>0.380737</td>\n",
       "      <td>0.392919</td>\n",
       "    </tr>\n",
       "    <tr>\n",
       "      <th>Property Offenses</th>\n",
       "      <td>0.252423</td>\n",
       "      <td>0.265057</td>\n",
       "      <td>0.267718</td>\n",
       "      <td>0.257286</td>\n",
       "    </tr>\n",
       "    <tr>\n",
       "      <th>Drug Offenses</th>\n",
       "      <td>0.129294</td>\n",
       "      <td>0.119391</td>\n",
       "      <td>0.096714</td>\n",
       "      <td>0.087282</td>\n",
       "    </tr>\n",
       "    <tr>\n",
       "      <th>Sex Offenses</th>\n",
       "      <td>0.016279</td>\n",
       "      <td>0.014668</td>\n",
       "      <td>0.014225</td>\n",
       "      <td>0.014007</td>\n",
       "    </tr>\n",
       "    <tr>\n",
       "      <th>Other Offenses</th>\n",
       "      <td>0.228242</td>\n",
       "      <td>0.230810</td>\n",
       "      <td>0.240606</td>\n",
       "      <td>0.248506</td>\n",
       "    </tr>\n",
       "  </tbody>\n",
       "</table>\n",
       "</div>"
      ],
      "text/plain": [
       "                       2015      2016      2017      2018\n",
       "                                                         \n",
       "Violent Offenses   0.373762  0.370074  0.380737  0.392919\n",
       "Property Offenses  0.252423  0.265057  0.267718  0.257286\n",
       "Drug Offenses      0.129294  0.119391  0.096714  0.087282\n",
       "Sex Offenses       0.016279  0.014668  0.014225  0.014007\n",
       "Other Offenses     0.228242  0.230810  0.240606  0.248506"
      ]
     },
     "execution_count": 92,
     "metadata": {},
     "output_type": "execute_result"
    }
   ],
   "source": [
    "lacrimedataDF"
   ]
  },
  {
   "cell_type": "code",
   "execution_count": 93,
   "metadata": {},
   "outputs": [
    {
     "data": {
      "text/html": [
       "<div>\n",
       "<style scoped>\n",
       "    .dataframe tbody tr th:only-of-type {\n",
       "        vertical-align: middle;\n",
       "    }\n",
       "\n",
       "    .dataframe tbody tr th {\n",
       "        vertical-align: top;\n",
       "    }\n",
       "\n",
       "    .dataframe thead th {\n",
       "        text-align: right;\n",
       "    }\n",
       "</style>\n",
       "<table border=\"1\" class=\"dataframe\">\n",
       "  <thead>\n",
       "    <tr style=\"text-align: right;\">\n",
       "      <th></th>\n",
       "      <th>2015</th>\n",
       "      <th>2016</th>\n",
       "      <th>2017</th>\n",
       "      <th>2018</th>\n",
       "    </tr>\n",
       "  </thead>\n",
       "  <tbody>\n",
       "    <tr>\n",
       "      <th>Violent Offenses</th>\n",
       "      <td>0.106177</td>\n",
       "      <td>0.106321</td>\n",
       "      <td>0.112450</td>\n",
       "      <td>0.115275</td>\n",
       "    </tr>\n",
       "    <tr>\n",
       "      <th>Property Offenses</th>\n",
       "      <td>0.343864</td>\n",
       "      <td>0.332810</td>\n",
       "      <td>0.316014</td>\n",
       "      <td>0.352283</td>\n",
       "    </tr>\n",
       "    <tr>\n",
       "      <th>Drug Offenses</th>\n",
       "      <td>0.030956</td>\n",
       "      <td>0.035136</td>\n",
       "      <td>0.046278</td>\n",
       "      <td>0.034280</td>\n",
       "    </tr>\n",
       "    <tr>\n",
       "      <th>Sex Offenses</th>\n",
       "      <td>0.010110</td>\n",
       "      <td>0.008915</td>\n",
       "      <td>0.009314</td>\n",
       "      <td>0.007875</td>\n",
       "    </tr>\n",
       "    <tr>\n",
       "      <th>Other Offenses</th>\n",
       "      <td>0.508893</td>\n",
       "      <td>0.516818</td>\n",
       "      <td>0.515944</td>\n",
       "      <td>0.490285</td>\n",
       "    </tr>\n",
       "  </tbody>\n",
       "</table>\n",
       "</div>"
      ],
      "text/plain": [
       "                       2015      2016      2017      2018\n",
       "Violent Offenses   0.106177  0.106321  0.112450  0.115275\n",
       "Property Offenses  0.343864  0.332810  0.316014  0.352283\n",
       "Drug Offenses      0.030956  0.035136  0.046278  0.034280\n",
       "Sex Offenses       0.010110  0.008915  0.009314  0.007875\n",
       "Other Offenses     0.508893  0.516818  0.515944  0.490285"
      ]
     },
     "execution_count": 93,
     "metadata": {},
     "output_type": "execute_result"
    }
   ],
   "source": [
    "austincrimedataDF"
   ]
  },
  {
   "cell_type": "markdown",
   "metadata": {},
   "source": [
    "Now, let's look at the news report data."
   ]
  },
  {
   "cell_type": "code",
   "execution_count": 94,
   "metadata": {},
   "outputs": [
    {
     "data": {
      "text/html": [
       "<div>\n",
       "<style scoped>\n",
       "    .dataframe tbody tr th:only-of-type {\n",
       "        vertical-align: middle;\n",
       "    }\n",
       "\n",
       "    .dataframe tbody tr th {\n",
       "        vertical-align: top;\n",
       "    }\n",
       "\n",
       "    .dataframe thead th {\n",
       "        text-align: right;\n",
       "    }\n",
       "</style>\n",
       "<table border=\"1\" class=\"dataframe\">\n",
       "  <thead>\n",
       "    <tr style=\"text-align: right;\">\n",
       "      <th></th>\n",
       "      <th>2015</th>\n",
       "      <th>2016</th>\n",
       "      <th>2017</th>\n",
       "      <th>2018</th>\n",
       "    </tr>\n",
       "  </thead>\n",
       "  <tbody>\n",
       "    <tr>\n",
       "      <th>Violent Offenses</th>\n",
       "      <td>0.659933</td>\n",
       "      <td>0.723176</td>\n",
       "      <td>0.768262</td>\n",
       "      <td>0.808955</td>\n",
       "    </tr>\n",
       "    <tr>\n",
       "      <th>Property Offenses</th>\n",
       "      <td>0.250842</td>\n",
       "      <td>0.195279</td>\n",
       "      <td>0.138539</td>\n",
       "      <td>0.116418</td>\n",
       "    </tr>\n",
       "    <tr>\n",
       "      <th>Drug Offenses</th>\n",
       "      <td>0.020202</td>\n",
       "      <td>0.012876</td>\n",
       "      <td>0.012594</td>\n",
       "      <td>0.026866</td>\n",
       "    </tr>\n",
       "    <tr>\n",
       "      <th>Sex Offenses</th>\n",
       "      <td>0.045455</td>\n",
       "      <td>0.045064</td>\n",
       "      <td>0.062972</td>\n",
       "      <td>0.026866</td>\n",
       "    </tr>\n",
       "    <tr>\n",
       "      <th>Other Offenses</th>\n",
       "      <td>0.023569</td>\n",
       "      <td>0.023605</td>\n",
       "      <td>0.017632</td>\n",
       "      <td>0.020896</td>\n",
       "    </tr>\n",
       "  </tbody>\n",
       "</table>\n",
       "</div>"
      ],
      "text/plain": [
       "                       2015      2016      2017      2018\n",
       "Violent Offenses   0.659933  0.723176  0.768262  0.808955\n",
       "Property Offenses  0.250842  0.195279  0.138539  0.116418\n",
       "Drug Offenses      0.020202  0.012876  0.012594  0.026866\n",
       "Sex Offenses       0.045455  0.045064  0.062972  0.026866\n",
       "Other Offenses     0.023569  0.023605  0.017632  0.020896"
      ]
     },
     "execution_count": 94,
     "metadata": {},
     "output_type": "execute_result"
    }
   ],
   "source": [
    "sfexaminerProportionsDF"
   ]
  },
  {
   "cell_type": "code",
   "execution_count": 95,
   "metadata": {},
   "outputs": [
    {
     "data": {
      "text/html": [
       "<div>\n",
       "<style scoped>\n",
       "    .dataframe tbody tr th:only-of-type {\n",
       "        vertical-align: middle;\n",
       "    }\n",
       "\n",
       "    .dataframe tbody tr th {\n",
       "        vertical-align: top;\n",
       "    }\n",
       "\n",
       "    .dataframe thead th {\n",
       "        text-align: right;\n",
       "    }\n",
       "</style>\n",
       "<table border=\"1\" class=\"dataframe\">\n",
       "  <thead>\n",
       "    <tr style=\"text-align: right;\">\n",
       "      <th></th>\n",
       "      <th>2015</th>\n",
       "      <th>2016</th>\n",
       "      <th>2017</th>\n",
       "      <th>2018</th>\n",
       "    </tr>\n",
       "  </thead>\n",
       "  <tbody>\n",
       "    <tr>\n",
       "      <th>Violent Offenses</th>\n",
       "      <td>0.767905</td>\n",
       "      <td>0.746951</td>\n",
       "      <td>0.670909</td>\n",
       "      <td>0.665653</td>\n",
       "    </tr>\n",
       "    <tr>\n",
       "      <th>Property Offenses</th>\n",
       "      <td>0.119363</td>\n",
       "      <td>0.128049</td>\n",
       "      <td>0.190000</td>\n",
       "      <td>0.205674</td>\n",
       "    </tr>\n",
       "    <tr>\n",
       "      <th>Drug Offenses</th>\n",
       "      <td>0.037135</td>\n",
       "      <td>0.045732</td>\n",
       "      <td>0.050909</td>\n",
       "      <td>0.047619</td>\n",
       "    </tr>\n",
       "    <tr>\n",
       "      <th>Sex Offenses</th>\n",
       "      <td>0.049735</td>\n",
       "      <td>0.057165</td>\n",
       "      <td>0.050909</td>\n",
       "      <td>0.045593</td>\n",
       "    </tr>\n",
       "    <tr>\n",
       "      <th>Other Offenses</th>\n",
       "      <td>0.025862</td>\n",
       "      <td>0.022104</td>\n",
       "      <td>0.037273</td>\n",
       "      <td>0.035461</td>\n",
       "    </tr>\n",
       "  </tbody>\n",
       "</table>\n",
       "</div>"
      ],
      "text/plain": [
       "                       2015      2016      2017      2018\n",
       "Violent Offenses   0.767905  0.746951  0.670909  0.665653\n",
       "Property Offenses  0.119363  0.128049  0.190000  0.205674\n",
       "Drug Offenses      0.037135  0.045732  0.050909  0.047619\n",
       "Sex Offenses       0.049735  0.057165  0.050909  0.045593\n",
       "Other Offenses     0.025862  0.022104  0.037273  0.035461"
      ]
     },
     "execution_count": 95,
     "metadata": {},
     "output_type": "execute_result"
    }
   ],
   "source": [
    "dailynewsProportionsDF"
   ]
  },
  {
   "cell_type": "code",
   "execution_count": 96,
   "metadata": {},
   "outputs": [
    {
     "data": {
      "text/html": [
       "<div>\n",
       "<style scoped>\n",
       "    .dataframe tbody tr th:only-of-type {\n",
       "        vertical-align: middle;\n",
       "    }\n",
       "\n",
       "    .dataframe tbody tr th {\n",
       "        vertical-align: top;\n",
       "    }\n",
       "\n",
       "    .dataframe thead th {\n",
       "        text-align: right;\n",
       "    }\n",
       "</style>\n",
       "<table border=\"1\" class=\"dataframe\">\n",
       "  <thead>\n",
       "    <tr style=\"text-align: right;\">\n",
       "      <th></th>\n",
       "      <th>2015</th>\n",
       "      <th>2016</th>\n",
       "      <th>2017</th>\n",
       "      <th>2018</th>\n",
       "    </tr>\n",
       "  </thead>\n",
       "  <tbody>\n",
       "    <tr>\n",
       "      <th>Violent Offenses</th>\n",
       "      <td>0.574419</td>\n",
       "      <td>0.628030</td>\n",
       "      <td>0.572125</td>\n",
       "      <td>0.6464</td>\n",
       "    </tr>\n",
       "    <tr>\n",
       "      <th>Property Offenses</th>\n",
       "      <td>0.255814</td>\n",
       "      <td>0.214963</td>\n",
       "      <td>0.251462</td>\n",
       "      <td>0.2096</td>\n",
       "    </tr>\n",
       "    <tr>\n",
       "      <th>Drug Offenses</th>\n",
       "      <td>0.074419</td>\n",
       "      <td>0.068493</td>\n",
       "      <td>0.075049</td>\n",
       "      <td>0.0384</td>\n",
       "    </tr>\n",
       "    <tr>\n",
       "      <th>Sex Offenses</th>\n",
       "      <td>0.074419</td>\n",
       "      <td>0.070601</td>\n",
       "      <td>0.076998</td>\n",
       "      <td>0.0592</td>\n",
       "    </tr>\n",
       "    <tr>\n",
       "      <th>Other Offenses</th>\n",
       "      <td>0.020930</td>\n",
       "      <td>0.017914</td>\n",
       "      <td>0.024366</td>\n",
       "      <td>0.0464</td>\n",
       "    </tr>\n",
       "  </tbody>\n",
       "</table>\n",
       "</div>"
      ],
      "text/plain": [
       "                       2015      2016      2017    2018\n",
       "Violent Offenses   0.574419  0.628030  0.572125  0.6464\n",
       "Property Offenses  0.255814  0.214963  0.251462  0.2096\n",
       "Drug Offenses      0.074419  0.068493  0.075049  0.0384\n",
       "Sex Offenses       0.074419  0.070601  0.076998  0.0592\n",
       "Other Offenses     0.020930  0.017914  0.024366  0.0464"
      ]
     },
     "execution_count": 96,
     "metadata": {},
     "output_type": "execute_result"
    }
   ],
   "source": [
    "kxanProportionsDF"
   ]
  },
  {
   "cell_type": "code",
   "execution_count": 97,
   "metadata": {},
   "outputs": [
    {
     "data": {
      "text/html": [
       "<div>\n",
       "<style scoped>\n",
       "    .dataframe tbody tr th:only-of-type {\n",
       "        vertical-align: middle;\n",
       "    }\n",
       "\n",
       "    .dataframe tbody tr th {\n",
       "        vertical-align: top;\n",
       "    }\n",
       "\n",
       "    .dataframe thead th {\n",
       "        text-align: right;\n",
       "    }\n",
       "</style>\n",
       "<table border=\"1\" class=\"dataframe\">\n",
       "  <thead>\n",
       "    <tr style=\"text-align: right;\">\n",
       "      <th></th>\n",
       "      <th>2015</th>\n",
       "      <th>2016</th>\n",
       "      <th>2017</th>\n",
       "      <th>2018</th>\n",
       "    </tr>\n",
       "  </thead>\n",
       "  <tbody>\n",
       "    <tr>\n",
       "      <th>Violent Offenses</th>\n",
       "      <td>0.40</td>\n",
       "      <td>0.750000</td>\n",
       "      <td>0.722222</td>\n",
       "      <td>0.85</td>\n",
       "    </tr>\n",
       "    <tr>\n",
       "      <th>Property Offenses</th>\n",
       "      <td>0.25</td>\n",
       "      <td>0.166667</td>\n",
       "      <td>0.111111</td>\n",
       "      <td>0.05</td>\n",
       "    </tr>\n",
       "    <tr>\n",
       "      <th>Drug Offenses</th>\n",
       "      <td>0.15</td>\n",
       "      <td>0.000000</td>\n",
       "      <td>0.166667</td>\n",
       "      <td>0.00</td>\n",
       "    </tr>\n",
       "    <tr>\n",
       "      <th>Sex Offenses</th>\n",
       "      <td>0.20</td>\n",
       "      <td>0.000000</td>\n",
       "      <td>0.000000</td>\n",
       "      <td>0.10</td>\n",
       "    </tr>\n",
       "    <tr>\n",
       "      <th>Other Offenses</th>\n",
       "      <td>0.00</td>\n",
       "      <td>0.083333</td>\n",
       "      <td>0.000000</td>\n",
       "      <td>0.00</td>\n",
       "    </tr>\n",
       "  </tbody>\n",
       "</table>\n",
       "</div>"
      ],
      "text/plain": [
       "                   2015      2016      2017  2018\n",
       "Violent Offenses   0.40  0.750000  0.722222  0.85\n",
       "Property Offenses  0.25  0.166667  0.111111  0.05\n",
       "Drug Offenses      0.15  0.000000  0.166667  0.00\n",
       "Sex Offenses       0.20  0.000000  0.000000  0.10\n",
       "Other Offenses     0.00  0.083333  0.000000  0.00"
      ]
     },
     "execution_count": 97,
     "metadata": {},
     "output_type": "execute_result"
    }
   ],
   "source": [
    "texasmonthlyProportionsDF"
   ]
  },
  {
   "cell_type": "markdown",
   "metadata": {},
   "source": [
    "# Data Analysis & Results"
   ]
  },
  {
   "cell_type": "markdown",
   "metadata": {},
   "source": [
    "To analyze the data, run a few Chi-Squared tests for Goodness of Fit. This will tell us whether the distributions are indeed the same or whether there is a statistically significant difference in the actual crimes vs reported crimes."
   ]
  },
  {
   "cell_type": "code",
   "execution_count": 98,
   "metadata": {},
   "outputs": [],
   "source": [
    "# Adds a totals column to a dataframe, to be used in the Chi-Squared Tests. \n",
    "# It needs to be multiplied by 100 so the test can work correctly\n",
    "def addTotal(df):\n",
    "    df[\"Total\"]=df.sum(axis=1)*100/df.shape[1]"
   ]
  },
  {
   "cell_type": "code",
   "execution_count": 99,
   "metadata": {},
   "outputs": [],
   "source": [
    "addTotal(sfexaminerProportionsDF)\n",
    "addTotal(dailynewsProportionsDF)\n",
    "addTotal(kxanProportionsDF)\n",
    "addTotal(texasmonthlyProportionsDF)\n",
    "\n",
    "addTotal(sfcrimedataDF)\n",
    "addTotal(lacrimedataDF)\n",
    "addTotal(austincrimedataDF)"
   ]
  },
  {
   "cell_type": "code",
   "execution_count": 100,
   "metadata": {},
   "outputs": [],
   "source": [
    "# Calls the chisquare test from scipy with the 2 propotion distributions and retuns the statistic and the p value\n",
    "def chi_square_test(prop1, prop2):\n",
    "    return chisquare(prop1, f_exp=prop2)"
   ]
  },
  {
   "cell_type": "code",
   "execution_count": 101,
   "metadata": {},
   "outputs": [
    {
     "name": "stdout",
     "output_type": "stream",
     "text": [
      "Power_divergenceResult(statistic=146.54689315566085, pvalue=1.1183559651583422e-30)\n",
      "Power_divergenceResult(statistic=63.6282455864406, pvalue=5.004524540674609e-13)\n",
      "Power_divergenceResult(statistic=314.93465794335333, pvalue=6.497520903138213e-67)\n",
      "Power_divergenceResult(statistic=406.35315595030505, pvalue=1.1790690896994701e-86)\n"
     ]
    }
   ],
   "source": [
    "print(chi_square_test(sfexaminerProportionsDF.Total, sfcrimedataDF.Total))\n",
    "print(chi_square_test(dailynewsProportionsDF.Total, lacrimedataDF.Total))\n",
    "print(chi_square_test(kxanProportionsDF.Total, austincrimedataDF.Total))\n",
    "print(chi_square_test(texasmonthlyProportionsDF.Total, austincrimedataDF.Total))"
   ]
  },
  {
   "cell_type": "markdown",
   "metadata": {},
   "source": [
    "This method here creates a bar chart which allows to clearly compare the proportion a crime is reported to the proportion of it occurring.\n"
   ]
  },
  {
   "cell_type": "code",
   "execution_count": 102,
   "metadata": {},
   "outputs": [],
   "source": [
    "def bar_chart_ind_vis(propTable1, propTable2, title, state): \n",
    "    N = 5\n",
    "    \n",
    "    crime_data = propTable1.Total\n",
    "\n",
    "    ind = np.arange(N)  \n",
    "    width = .20\n",
    "\n",
    "    fig, ax = plt.subplots()\n",
    "    rects1 = ax.bar(ind, crime_data , width, color='r')\n",
    "\n",
    "    news_data = propTable2.Total\n",
    "    rects2 = ax.bar(ind + width, news_data, width, color='b')\n",
    "    \n",
    "    ax.set_ylabel('Proportion of Crime')\n",
    "    ax.set_title(title)\n",
    "    ax.set_xticks(ind + width / 2)\n",
    "    ax.set_xticklabels(('Violent', 'Property', 'Drug', 'Sex', 'Other'))\n",
    "    ax.yaxis.set_major_formatter(mtick.PercentFormatter())\n",
    "    \n",
    "    if state:\n",
    "        ax.legend((rects1[0], rects2[0]), ('California', 'Texas'))\n",
    "    else:\n",
    "        ax.legend((rects1[0], rects2[0]), ('Occurring Crime', 'Reported Crime'))\n",
    "\n",
    "\n"
   ]
  },
  {
   "cell_type": "markdown",
   "metadata": {},
   "source": [
    "This method creates a bar chart comparing the differences in proportion between what crimes were reported and what actually occurred. "
   ]
  },
  {
   "cell_type": "code",
   "execution_count": 103,
   "metadata": {},
   "outputs": [],
   "source": [
    "import matplotlib.patches as mpatches\n",
    "\n",
    "def bar_char_diff(propTable1, propTable2, title):\n",
    "    prop_diff = []\n",
    "    color_map = []\n",
    "   \n",
    "    for i in range (len(propTable1.Total)):\n",
    "        difference = propTable2.Total[i] - propTable1.Total[i]\n",
    "        prop_diff.append(difference/100)\n",
    "        if difference < 0:\n",
    "            color_map.append('blue')\n",
    "        else:\n",
    "            color_map.append('red')\n",
    "        \n",
    "    \n",
    "    fig = plt.figure()\n",
    "    \n",
    "    ax = fig.add_axes([0,0,1,1])\n",
    "    crimes = ['Violence', 'Property', 'Drug', 'Sex', 'Other']\n",
    "    \n",
    "    ax.set_title(title)\n",
    "    ax.set_ylabel('Proportional Difference')\n",
    "   \n",
    "    red_patch = mpatches.Patch(color='red', label='Overreporting')\n",
    "    blue_patch = mpatches.Patch(color='blue', label='Underreporting')\n",
    "    ax.legend(handles=[red_patch, blue_patch])\n",
    "    \n",
    "    ax.bar(crimes, prop_diff, color = color_map)\n",
    "    \n",
    "\n",
    "    "
   ]
  },
  {
   "cell_type": "markdown",
   "metadata": {},
   "source": [
    "This bar chart shows the the difference in crime occurring versus crime reported for different types of crime in San Francisco. Here the violent crimes seem to be heavily overreported. On the other hand drug related crimes seem to be slightly underreported. Crime other than these four main categories also are underreported. "
   ]
  },
  {
   "cell_type": "code",
   "execution_count": 104,
   "metadata": {},
   "outputs": [
    {
     "data": {
      "image/png": "[encoded data removed]",
      "text/plain": [
       "<Figure size 432x288 with 1 Axes>"
      ]
     },
     "metadata": {
      "needs_background": "light"
     },
     "output_type": "display_data"
    }
   ],
   "source": [
    "sf = bar_chart_ind_vis(sfcrimedataDF, sfexaminerProportionsDF, \"Crime Occurring vs Crime Reported in San Francisco\", False)"
   ]
  },
  {
   "cell_type": "markdown",
   "metadata": {},
   "source": [
    "This bar chart shows the the difference in crime occurring versus crime reported for different types of crime in Los Angeles. Here there is a very similar graph to San Francisco. Once again violent crimes seem to heavily overreported by almost 40%. We also see sex related crime also overreported compared to drug and property crime which were slightly underreported. "
   ]
  },
  {
   "cell_type": "code",
   "execution_count": 105,
   "metadata": {},
   "outputs": [
    {
     "data": {
      "image/png": "[encoded data removed]",
      "text/plain": [
       "<Figure size 432x288 with 1 Axes>"
      ]
     },
     "metadata": {
      "needs_background": "light"
     },
     "output_type": "display_data"
    }
   ],
   "source": [
    "la = bar_chart_ind_vis(lacrimedataDF, dailynewsProportionsDF, \"Crime Occurring vs Crime Reported in Los Angeles\", False)"
   ]
  },
  {
   "cell_type": "markdown",
   "metadata": {},
   "source": [
    "This bar chart shows the the difference in crime occurring versus crime reported for different types of crime in Austin. Austin seems to differ from SF and LA in the sense that there is a smaller proportion of violent and drug crimes. However, once again, violent crime is significantly reported more than its occurences, while crimes not part of these 4 main categories are underreported."
   ]
  },
  {
   "cell_type": "code",
   "execution_count": 106,
   "metadata": {},
   "outputs": [
    {
     "data": {
      "image/png": "[encoded data removed]",
      "text/plain": [
       "<Figure size 432x288 with 1 Axes>"
      ]
     },
     "metadata": {
      "needs_background": "light"
     },
     "output_type": "display_data"
    }
   ],
   "source": [
    "austin = bar_chart_ind_vis(austincrimedataDF, kxanProportionsDF, \"Crime Occurring vs Crime Reported in Austin\", False)"
   ]
  },
  {
   "cell_type": "markdown",
   "metadata": {},
   "source": [
    "This bar chart compares the proportion of crimes reported for each type of crime in Texas and California. As you can see there could be a significant difference in terms of the reporting of violent crimes. However, this could easily be attributed to the difference in the proportion between the actual violent crimes committed."
   ]
  },
  {
   "cell_type": "code",
   "execution_count": 107,
   "metadata": {},
   "outputs": [
    {
     "data": {
      "image/png": "[encoded data removed]",
      "text/plain": [
       "<Figure size 432x288 with 1 Axes>"
      ]
     },
     "metadata": {
      "needs_background": "light"
     },
     "output_type": "display_data"
    }
   ],
   "source": [
    "cali_tex = bar_chart_ind_vis(sfexaminerProportionsDF, kxanProportionsDF, \"California vs Texas Crime Reporting\", True)"
   ]
  },
  {
   "cell_type": "markdown",
   "metadata": {},
   "source": [
    "This bar chart helps clearly see which categories of crimes are overreported and underreported in San Francisco."
   ]
  },
  {
   "cell_type": "code",
   "execution_count": 108,
   "metadata": {},
   "outputs": [
    {
     "data": {
      "image/png": "[encoded data removed]",
      "text/plain": [
       "<Figure size 432x288 with 1 Axes>"
      ]
     },
     "metadata": {
      "needs_background": "light"
     },
     "output_type": "display_data"
    }
   ],
   "source": [
    "sf_diff = bar_char_diff(sfcrimedataDF, sfexaminerProportionsDF, \"Difference in Reported vs Occurred Crime in San Francisco\")"
   ]
  },
  {
   "cell_type": "markdown",
   "metadata": {},
   "source": [
    "This bar chart helps clearly see which categories of crimes are overreported and underreported in Los Angeles."
   ]
  },
  {
   "cell_type": "code",
   "execution_count": 109,
   "metadata": {},
   "outputs": [
    {
     "data": {
      "image/png": "[encoded data removed]",
      "text/plain": [
       "<Figure size 432x288 with 1 Axes>"
      ]
     },
     "metadata": {
      "needs_background": "light"
     },
     "output_type": "display_data"
    }
   ],
   "source": [
    "la_diff = bar_char_diff(lacrimedataDF, dailynewsProportionsDF, \"Difference in Reported vs Occurred Crime in Los Angeles\")"
   ]
  },
  {
   "cell_type": "markdown",
   "metadata": {},
   "source": [
    "This bar chart helps clearly see which categories of crimes are overreported and underreported in Austin."
   ]
  },
  {
   "cell_type": "code",
   "execution_count": 110,
   "metadata": {},
   "outputs": [
    {
     "data": {
      "image/png": "[encoded data removed]",
      "text/plain": [
       "<Figure size 432x288 with 1 Axes>"
      ]
     },
     "metadata": {
      "needs_background": "light"
     },
     "output_type": "display_data"
    }
   ],
   "source": [
    "aust_diff = bar_char_diff(austincrimedataDF, kxanProportionsDF, \"Difference in Reported vs Occurred Crime in Austin\")"
   ]
  },
  {
   "cell_type": "markdown",
   "metadata": {},
   "source": [
    "# Ethics & Privacy"
   ]
  },
  {
   "cell_type": "markdown",
   "metadata": {},
   "source": [
    "The crime data from the California area is collected and reported by the California Department of Justice. This is a statewide investigation law enforcement agency that carries out complex criminal and civil investigations, prosecutions, and other legal services throughout the state. They are sharing their data to update citizens on how they are doing, hold them accountable and improve the public policy to make California a safer place to live. Their dataset contains data points going all the way back to 1980 until 2018. This dataset should be big enough to make reliable inferences about the state of crime in California. \n",
    "\n",
    "Similarly, the crime data from the Texas area is derived from a public database that is collected and reported by the Austin police department. This is a citywide law enforcement agency that reports all incidents that it responds to. Their dataset contains 16 years of public crime reports from the Austin police. This dataset should be big enough to make reliable inferences about the state of crime in the Austin area and perhaps broader inferences about crime in Texas.  Like the California DOJ, this Austin police department shares this data for accountability and transparency related reasons. \n",
    "\n",
    "In combination with data collected from different news papers, it should be suffiecient to help find out if the data from these datasets are accurately represented by what types of crime the media reports in these two areas. By looking into the \"Terms of Use\" section of every scraped newspaper, it's safe to say that all of them are allowing use to collect data for personal and non-commercial use only. Which means that it's allowed to use the data for the purpose of writing this report."
   ]
  },
  {
   "cell_type": "markdown",
   "metadata": {},
   "source": [
    "# Conclusion & Discussion"
   ]
  },
  {
   "cell_type": "markdown",
   "metadata": {},
   "source": [
    "In this project, we looked at major types of crime and wondered how accurately the proportions were reported in major news media outlets. We looked at California and Texas to see if political climate might make a difference in the reported proportions as well. The main hypothesis is that the media probably underreports most crime that happens because it’s not going to draw as much attention and money for the news outlets and that they probably overreport acts of violence as they will create the most buzz for them.\n",
    "\n",
    "After looking at all the data, it is clearly obvious that the main hypothesis is at least slightly correct. News outlets will overreport crimes that draw in headlines, which are much rarer than the real crimes being commited everyday. Violent crimes were the most overreported, which is expected. Crimes related to sex were reported a bit more than they actually happen, as they would also bring in buzz for the news source, but these were generally much more consistent with the actual proportion of crimes committed. All other crimes were (usually)underreported, as speculated.\n",
    "\n",
    "The big shock however, was the astoundingly small P-Values after running Chi-Squared Tests for Goodness of Fit. Usually, a value less than 0.01 would indicate a significant result, but the actual values were smaller than 0.0000000001(10^-10), showing how completely different the distributions between real and reported crimes were. "
   ]
  }
 ],
 "metadata": {
  "kernelspec": {
   "display_name": "Python 3",
   "language": "python",
   "name": "python3"
  },
  "language_info": {
   "codemirror_mode": {
    "name": "ipython",
    "version": 3
   },
   "file_extension": ".py",
   "mimetype": "text/x-python",
   "name": "python",
   "nbconvert_exporter": "python",
   "pygments_lexer": "ipython3",
   "version": "3.7.4"
  }
 },
 "nbformat": 4,
 "nbformat_minor": 2
}
